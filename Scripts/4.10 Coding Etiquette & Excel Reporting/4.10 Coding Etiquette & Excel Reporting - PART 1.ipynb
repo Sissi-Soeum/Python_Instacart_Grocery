{
 "cells": [
  {
   "cell_type": "markdown",
   "id": "1e2c88f8",
   "metadata": {},
   "source": [
    "# This script contains the following points:\n",
    "\n",
    "## PART 1\n",
    "\n",
    "### 01. Import libraries\n",
    "### 02. Import data\n",
    "### 03. Create a subset of data (random samples) with the 70/30 slipt, due to memory constraints\n",
    "### 04. Create new \" region \" column based on the \" state \" column\n",
    "### 05. Determine whether there’s a difference in spending habits between the different U.S. regions\n",
    "### 06. Create an exclusion flag for low-activity customers (customers with less than 5 orders) and exclude them   "
   ]
  },
  {
   "cell_type": "markdown",
   "id": "d92ad4a8",
   "metadata": {},
   "source": [
    "# 01. Import libraries"
   ]
  },
  {
   "cell_type": "code",
   "execution_count": 4,
   "id": "fac3677e",
   "metadata": {},
   "outputs": [],
   "source": [
    "import pandas as pd\n",
    "import numpy as np\n",
    "import os\n",
    "import matplotlib.pyplot as plt\n",
    "import seaborn as sns\n",
    "import scipy"
   ]
  },
  {
   "cell_type": "markdown",
   "id": "568ddb65",
   "metadata": {},
   "source": [
    "# 02. Import data"
   ]
  },
  {
   "cell_type": "code",
   "execution_count": 5,
   "id": "d4979d71",
   "metadata": {},
   "outputs": [],
   "source": [
    "# Set path\n",
    "\n",
    "path = r'C:\\Users\\nang6\\OneDrive\\Bureau\\Data Analytics\\Data Immersion\\Achievement 4\\02-2020 Instacart Basket Analysis'"
   ]
  },
  {
   "cell_type": "code",
   "execution_count": 6,
   "id": "d5a90995",
   "metadata": {},
   "outputs": [],
   "source": [
    "# Import orders_products_all\n",
    "\n",
    "df_ords_prods_all = pd.read_pickle(os.path.join(path, '02 Data','Prepared Data', 'orders_products_all.pkl'))"
   ]
  },
  {
   "cell_type": "markdown",
   "id": "f3e18aec",
   "metadata": {},
   "source": [
    "# 03. Create a subset of data (random samples) with the 70/30 slipt, due to memory constraints"
   ]
  },
  {
   "cell_type": "code",
   "execution_count": 7,
   "id": "50e1c255",
   "metadata": {},
   "outputs": [
    {
     "data": {
      "text/plain": [
       "(32404859, 31)"
      ]
     },
     "execution_count": 7,
     "metadata": {},
     "output_type": "execute_result"
    }
   ],
   "source": [
    "# Check size of df_ords_prods_all\n",
    "\n",
    "df_ords_prods_all.shape"
   ]
  },
  {
   "cell_type": "code",
   "execution_count": 8,
   "id": "f0c31947",
   "metadata": {},
   "outputs": [],
   "source": [
    "# Set the seed\n",
    "\n",
    "np.random.seed(4)"
   ]
  },
  {
   "cell_type": "code",
   "execution_count": 9,
   "id": "d1f503fd",
   "metadata": {},
   "outputs": [],
   "source": [
    "# Create a subset of data (random samples) with the 70/30 slipt\n",
    "\n",
    "dev_2 = np.random.rand(len(df_ords_prods_all)) <= 0.7"
   ]
  },
  {
   "cell_type": "code",
   "execution_count": 10,
   "id": "852c072f",
   "metadata": {},
   "outputs": [
    {
     "data": {
      "text/plain": [
       "array([False,  True, False, ...,  True,  True,  True])"
      ]
     },
     "execution_count": 10,
     "metadata": {},
     "output_type": "execute_result"
    }
   ],
   "source": [
    "# A new list called dev_2 has been created\n",
    "\n",
    "dev_2"
   ]
  },
  {
   "cell_type": "code",
   "execution_count": 11,
   "id": "7d551bf9",
   "metadata": {},
   "outputs": [],
   "source": [
    "# Store 70% of the sample in the dataframe df_ords_prods_big\n",
    "\n",
    "df_ords_prods_big = df_ords_prods_all[dev_2]"
   ]
  },
  {
   "cell_type": "code",
   "execution_count": 12,
   "id": "0fc90804",
   "metadata": {},
   "outputs": [],
   "source": [
    "# Store 30% of the sample in the dataframe df_ords_prods_small\n",
    "\n",
    "df_ords_prods_small = df_ords_prods_all[~dev_2]"
   ]
  },
  {
   "cell_type": "code",
   "execution_count": 13,
   "id": "00ab8fed",
   "metadata": {},
   "outputs": [
    {
     "data": {
      "text/plain": [
       "32404859"
      ]
     },
     "execution_count": 13,
     "metadata": {},
     "output_type": "execute_result"
    }
   ],
   "source": [
    "# Check output\n",
    "\n",
    "len(df_ords_prods_big) + len(df_ords_prods_small)"
   ]
  },
  {
   "cell_type": "code",
   "execution_count": 14,
   "id": "7ccfc9b5",
   "metadata": {},
   "outputs": [
    {
     "data": {
      "text/plain": [
       "(22683761, 31)"
      ]
     },
     "execution_count": 14,
     "metadata": {},
     "output_type": "execute_result"
    }
   ],
   "source": [
    "df_ords_prods_big.shape"
   ]
  },
  {
   "cell_type": "code",
   "execution_count": 15,
   "id": "65d8940f",
   "metadata": {},
   "outputs": [
    {
     "data": {
      "text/plain": [
       "(9721098, 31)"
      ]
     },
     "execution_count": 15,
     "metadata": {},
     "output_type": "execute_result"
    }
   ],
   "source": [
    "df_ords_prods_small.shape"
   ]
  },
  {
   "cell_type": "code",
   "execution_count": 16,
   "id": "c18cf297",
   "metadata": {},
   "outputs": [],
   "source": [
    "# Export df_ords_prods_big and df_ords_prods_small\n",
    "\n",
    "df_ords_prods_big.to_pickle(os.path.join(path, '02 Data','Prepared Data', 'orders_products_big.pkl'))\n",
    "df_ords_prods_small.to_pickle(os.path.join(path, '02 Data','Prepared Data', 'orders_products_small.pkl'))"
   ]
  },
  {
   "cell_type": "markdown",
   "id": "b2720bb8",
   "metadata": {},
   "source": [
    "# 04. Create new \" region \" column based on the \" state \" column"
   ]
  },
  {
   "cell_type": "code",
   "execution_count": 17,
   "id": "8e0bd337",
   "metadata": {},
   "outputs": [
    {
     "data": {
      "text/plain": [
       "Pennsylvania            467103\n",
       "California              461652\n",
       "Rhode Island            460034\n",
       "Georgia                 459842\n",
       "New Mexico              458006\n",
       "Arizona                 457172\n",
       "Oklahoma                456462\n",
       "North Carolina          456003\n",
       "Alaska                  454464\n",
       "Minnesota               453995\n",
       "Massachusetts           453021\n",
       "Wyoming                 450931\n",
       "Missouri                448813\n",
       "Texas                   448337\n",
       "Virginia                448151\n",
       "Colorado                447359\n",
       "North Dakota            447227\n",
       "Maine                   447118\n",
       "Alabama                 446694\n",
       "Kansas                  446558\n",
       "Delaware                446002\n",
       "Louisiana               445782\n",
       "Oregon                  445496\n",
       "Arkansas                445353\n",
       "Montana                 445276\n",
       "Nevada                  445257\n",
       "South Carolina          445180\n",
       "New York                445137\n",
       "Mississippi             443902\n",
       "South Dakota            443834\n",
       "Washington              442869\n",
       "Illinois                442651\n",
       "Hawaii                  442535\n",
       "Kentucky                442129\n",
       "Michigan                441214\n",
       "Florida                 440361\n",
       "Wisconsin               440034\n",
       "Ohio                    439629\n",
       "New Jersey              439504\n",
       "Indiana                 439192\n",
       "Maryland                438327\n",
       "Nebraska                438177\n",
       "Iowa                    437850\n",
       "Connecticut             436626\n",
       "Tennessee               432765\n",
       "New Hampshire           430475\n",
       "District of Columbia    429832\n",
       "Vermont                 428371\n",
       "West Virginia           428130\n",
       "Utah                    428111\n",
       "Idaho                   424818\n",
       "Name: state, dtype: int64"
      ]
     },
     "execution_count": 17,
     "metadata": {},
     "output_type": "execute_result"
    }
   ],
   "source": [
    "# Check state column\n",
    "\n",
    "df_ords_prods_big['state'].value_counts(dropna = False)"
   ]
  },
  {
   "cell_type": "code",
   "execution_count": 18,
   "id": "602c4fc2",
   "metadata": {},
   "outputs": [],
   "source": [
    "# Define region lists\n",
    "\n",
    "region_1_northeast = ['Maine', 'New Hampshire', 'Vermont', 'Massachusetts', 'Rhode Island', 'Connecticut', 'New York', 'Pennsylvania', 'New Jersey']"
   ]
  },
  {
   "cell_type": "code",
   "execution_count": 19,
   "id": "569b6159",
   "metadata": {},
   "outputs": [],
   "source": [
    "region_2_midwest = ['Wisconsin', 'Michigan', 'Illinois', 'Indiana', 'Ohio', 'North Dakota', 'South Dakota', 'Nebraska', 'Kansas', 'Minnesota', 'Iowa', 'Missouri']"
   ]
  },
  {
   "cell_type": "code",
   "execution_count": 20,
   "id": "1775d150",
   "metadata": {},
   "outputs": [],
   "source": [
    "region_3_south = ['Delaware', 'Maryland', 'District of Columbia', 'Virginia', 'West Virginia', 'North Carolina', 'South Carolina', 'Georgia', 'Florida', 'Kentucky', 'Tennessee', 'Mississippi', 'Alabama', 'Oklahoma', 'Texas', 'Arkansas', 'Louisiana']"
   ]
  },
  {
   "cell_type": "code",
   "execution_count": 21,
   "id": "09cbc81b",
   "metadata": {},
   "outputs": [],
   "source": [
    "region_4_west = ['Idaho', 'Montana', 'Wyoming', 'Nevada', 'Utah', 'Colorado', 'Arizona', 'New Mexico', 'Alaska', 'Washington', 'Oregon', 'California', 'Hawaii']"
   ]
  },
  {
   "cell_type": "code",
   "execution_count": 22,
   "id": "fb5b53c1",
   "metadata": {},
   "outputs": [
    {
     "name": "stderr",
     "output_type": "stream",
     "text": [
      "C:\\Users\\nang6\\AppData\\Local\\Temp\\ipykernel_17548\\3373408793.py:3: SettingWithCopyWarning: \n",
      "A value is trying to be set on a copy of a slice from a DataFrame.\n",
      "Try using .loc[row_indexer,col_indexer] = value instead\n",
      "\n",
      "See the caveats in the documentation: https://pandas.pydata.org/pandas-docs/stable/user_guide/indexing.html#returning-a-view-versus-a-copy\n",
      "  df_ords_prods_big.loc[df_ords_prods_all['state'].isin(region_1_northeast), 'region'] = 'Northeast'\n"
     ]
    }
   ],
   "source": [
    "# Create new column 'region'\n",
    "\n",
    "df_ords_prods_big.loc[df_ords_prods_all['state'].isin(region_1_northeast), 'region'] = 'Northeast'"
   ]
  },
  {
   "cell_type": "code",
   "execution_count": 23,
   "id": "a4e1861e",
   "metadata": {},
   "outputs": [],
   "source": [
    "df_ords_prods_big.loc[df_ords_prods_all['state'].isin(region_2_midwest), 'region'] = 'Midwest'"
   ]
  },
  {
   "cell_type": "code",
   "execution_count": 24,
   "id": "ca292a9e",
   "metadata": {},
   "outputs": [],
   "source": [
    "df_ords_prods_big.loc[df_ords_prods_all['state'].isin(region_3_south), 'region'] = 'South'"
   ]
  },
  {
   "cell_type": "code",
   "execution_count": 25,
   "id": "109169ab",
   "metadata": {},
   "outputs": [],
   "source": [
    "df_ords_prods_big.loc[df_ords_prods_all['state'].isin(region_4_west), 'region'] = 'West'"
   ]
  },
  {
   "cell_type": "code",
   "execution_count": 26,
   "id": "39d82292",
   "metadata": {},
   "outputs": [
    {
     "data": {
      "text/plain": [
       "South        7553252\n",
       "West         5803946\n",
       "Midwest      5319174\n",
       "Northeast    4007389\n",
       "Name: region, dtype: int64"
      ]
     },
     "execution_count": 26,
     "metadata": {},
     "output_type": "execute_result"
    }
   ],
   "source": [
    "# Check outcome\n",
    "\n",
    "df_ords_prods_big['region'].value_counts(dropna = False)"
   ]
  },
  {
   "cell_type": "code",
   "execution_count": 27,
   "id": "d439ab53",
   "metadata": {},
   "outputs": [
    {
     "data": {
      "text/plain": [
       "(22683761, 32)"
      ]
     },
     "execution_count": 27,
     "metadata": {},
     "output_type": "execute_result"
    }
   ],
   "source": [
    "df_ords_prods_big.shape"
   ]
  },
  {
   "cell_type": "markdown",
   "id": "a65d26ff",
   "metadata": {},
   "source": [
    "# 05. Determine whether there’s a difference in spending habits between the different U.S. regions"
   ]
  },
  {
   "cell_type": "code",
   "execution_count": 28,
   "id": "07cd01fc",
   "metadata": {},
   "outputs": [],
   "source": [
    "# Create a crosstab\n",
    "\n",
    "crosstab_spending_habits = pd.crosstab(df_ords_prods_big['region'], df_ords_prods_big['spending_flag'], dropna = False)"
   ]
  },
  {
   "cell_type": "code",
   "execution_count": 29,
   "id": "3b482f7a",
   "metadata": {},
   "outputs": [
    {
     "data": {
      "text/html": [
       "<div>\n",
       "<style scoped>\n",
       "    .dataframe tbody tr th:only-of-type {\n",
       "        vertical-align: middle;\n",
       "    }\n",
       "\n",
       "    .dataframe tbody tr th {\n",
       "        vertical-align: top;\n",
       "    }\n",
       "\n",
       "    .dataframe thead th {\n",
       "        text-align: right;\n",
       "    }\n",
       "</style>\n",
       "<table border=\"1\" class=\"dataframe\">\n",
       "  <thead>\n",
       "    <tr style=\"text-align: right;\">\n",
       "      <th>spending_flag</th>\n",
       "      <th>High spender</th>\n",
       "      <th>Low spender</th>\n",
       "    </tr>\n",
       "    <tr>\n",
       "      <th>region</th>\n",
       "      <th></th>\n",
       "      <th></th>\n",
       "    </tr>\n",
       "  </thead>\n",
       "  <tbody>\n",
       "    <tr>\n",
       "      <th>Midwest</th>\n",
       "      <td>20707</td>\n",
       "      <td>5298467</td>\n",
       "    </tr>\n",
       "    <tr>\n",
       "      <th>Northeast</th>\n",
       "      <td>13040</td>\n",
       "      <td>3994349</td>\n",
       "    </tr>\n",
       "    <tr>\n",
       "      <th>South</th>\n",
       "      <td>28469</td>\n",
       "      <td>7524783</td>\n",
       "    </tr>\n",
       "    <tr>\n",
       "      <th>West</th>\n",
       "      <td>21835</td>\n",
       "      <td>5782111</td>\n",
       "    </tr>\n",
       "  </tbody>\n",
       "</table>\n",
       "</div>"
      ],
      "text/plain": [
       "spending_flag  High spender  Low spender\n",
       "region                                  \n",
       "Midwest               20707      5298467\n",
       "Northeast             13040      3994349\n",
       "South                 28469      7524783\n",
       "West                  21835      5782111"
      ]
     },
     "execution_count": 29,
     "metadata": {},
     "output_type": "execute_result"
    }
   ],
   "source": [
    "crosstab_spending_habits"
   ]
  },
  {
   "cell_type": "markdown",
   "id": "b3bd5334",
   "metadata": {},
   "source": [
    "# 06. Create an exclusion flag for low-activity customers (customers with less than 5 orders) and exclude them from the data"
   ]
  },
  {
   "cell_type": "code",
   "execution_count": 30,
   "id": "ad003ec1",
   "metadata": {},
   "outputs": [
    {
     "name": "stderr",
     "output_type": "stream",
     "text": [
      "C:\\Users\\nang6\\AppData\\Local\\Temp\\ipykernel_17548\\786351492.py:3: SettingWithCopyWarning: \n",
      "A value is trying to be set on a copy of a slice from a DataFrame.\n",
      "Try using .loc[row_indexer,col_indexer] = value instead\n",
      "\n",
      "See the caveats in the documentation: https://pandas.pydata.org/pandas-docs/stable/user_guide/indexing.html#returning-a-view-versus-a-copy\n",
      "  df_ords_prods_big.loc[df_ords_prods_all['max_order'] <5, 'exclusion_flag'] = 'Low activity'\n"
     ]
    }
   ],
   "source": [
    "# Create exclusion_flag\n",
    "\n",
    "df_ords_prods_big.loc[df_ords_prods_all['max_order'] <5, 'exclusion_flag'] = 'Low activity'"
   ]
  },
  {
   "cell_type": "code",
   "execution_count": 31,
   "id": "c8798f6d",
   "metadata": {},
   "outputs": [],
   "source": [
    "df_ords_prods_big.loc[df_ords_prods_all['max_order'] >=5, 'exclusion_flag'] = 'High activity'"
   ]
  },
  {
   "cell_type": "code",
   "execution_count": 32,
   "id": "52888217",
   "metadata": {},
   "outputs": [
    {
     "data": {
      "text/plain": [
       "High activity    21675811\n",
       "Low activity      1007950\n",
       "Name: exclusion_flag, dtype: int64"
      ]
     },
     "execution_count": 32,
     "metadata": {},
     "output_type": "execute_result"
    }
   ],
   "source": [
    "# Check outcome\n",
    "\n",
    "df_ords_prods_big['exclusion_flag'].value_counts(dropna = False)"
   ]
  },
  {
   "cell_type": "code",
   "execution_count": 33,
   "id": "04890752",
   "metadata": {},
   "outputs": [
    {
     "data": {
      "text/plain": [
       "(22683761, 33)"
      ]
     },
     "execution_count": 33,
     "metadata": {},
     "output_type": "execute_result"
    }
   ],
   "source": [
    "df_ords_prods_big.shape"
   ]
  },
  {
   "cell_type": "code",
   "execution_count": 34,
   "id": "09a7e044",
   "metadata": {},
   "outputs": [
    {
     "data": {
      "text/html": [
       "<div>\n",
       "<style scoped>\n",
       "    .dataframe tbody tr th:only-of-type {\n",
       "        vertical-align: middle;\n",
       "    }\n",
       "\n",
       "    .dataframe tbody tr th {\n",
       "        vertical-align: top;\n",
       "    }\n",
       "\n",
       "    .dataframe thead th {\n",
       "        text-align: right;\n",
       "    }\n",
       "</style>\n",
       "<table border=\"1\" class=\"dataframe\">\n",
       "  <thead>\n",
       "    <tr style=\"text-align: right;\">\n",
       "      <th></th>\n",
       "      <th>order_id</th>\n",
       "      <th>user_id</th>\n",
       "      <th>order_number</th>\n",
       "      <th>orders_day_of_week</th>\n",
       "      <th>order_hour_of_day</th>\n",
       "      <th>days_since_prior_order</th>\n",
       "      <th>product_id</th>\n",
       "      <th>add_to_cart_order</th>\n",
       "      <th>reordered</th>\n",
       "      <th>product_name</th>\n",
       "      <th>...</th>\n",
       "      <th>order_frequency_flag</th>\n",
       "      <th>gender</th>\n",
       "      <th>state</th>\n",
       "      <th>age</th>\n",
       "      <th>date_joined</th>\n",
       "      <th>number_dependants</th>\n",
       "      <th>family_status</th>\n",
       "      <th>income</th>\n",
       "      <th>region</th>\n",
       "      <th>exclusion_flag</th>\n",
       "    </tr>\n",
       "  </thead>\n",
       "  <tbody>\n",
       "    <tr>\n",
       "      <th>1</th>\n",
       "      <td>2398795</td>\n",
       "      <td>1</td>\n",
       "      <td>2</td>\n",
       "      <td>3</td>\n",
       "      <td>7</td>\n",
       "      <td>15.0</td>\n",
       "      <td>196</td>\n",
       "      <td>1</td>\n",
       "      <td>1</td>\n",
       "      <td>Soda</td>\n",
       "      <td>...</td>\n",
       "      <td>Regular customer</td>\n",
       "      <td>Female</td>\n",
       "      <td>Alabama</td>\n",
       "      <td>31</td>\n",
       "      <td>2/17/2019</td>\n",
       "      <td>3</td>\n",
       "      <td>married</td>\n",
       "      <td>40423</td>\n",
       "      <td>South</td>\n",
       "      <td>High activity</td>\n",
       "    </tr>\n",
       "    <tr>\n",
       "      <th>4</th>\n",
       "      <td>431534</td>\n",
       "      <td>1</td>\n",
       "      <td>5</td>\n",
       "      <td>4</td>\n",
       "      <td>15</td>\n",
       "      <td>28.0</td>\n",
       "      <td>196</td>\n",
       "      <td>1</td>\n",
       "      <td>1</td>\n",
       "      <td>Soda</td>\n",
       "      <td>...</td>\n",
       "      <td>Regular customer</td>\n",
       "      <td>Female</td>\n",
       "      <td>Alabama</td>\n",
       "      <td>31</td>\n",
       "      <td>2/17/2019</td>\n",
       "      <td>3</td>\n",
       "      <td>married</td>\n",
       "      <td>40423</td>\n",
       "      <td>South</td>\n",
       "      <td>High activity</td>\n",
       "    </tr>\n",
       "    <tr>\n",
       "      <th>5</th>\n",
       "      <td>3367565</td>\n",
       "      <td>1</td>\n",
       "      <td>6</td>\n",
       "      <td>2</td>\n",
       "      <td>7</td>\n",
       "      <td>19.0</td>\n",
       "      <td>196</td>\n",
       "      <td>1</td>\n",
       "      <td>1</td>\n",
       "      <td>Soda</td>\n",
       "      <td>...</td>\n",
       "      <td>Regular customer</td>\n",
       "      <td>Female</td>\n",
       "      <td>Alabama</td>\n",
       "      <td>31</td>\n",
       "      <td>2/17/2019</td>\n",
       "      <td>3</td>\n",
       "      <td>married</td>\n",
       "      <td>40423</td>\n",
       "      <td>South</td>\n",
       "      <td>High activity</td>\n",
       "    </tr>\n",
       "    <tr>\n",
       "      <th>7</th>\n",
       "      <td>3108588</td>\n",
       "      <td>1</td>\n",
       "      <td>8</td>\n",
       "      <td>1</td>\n",
       "      <td>14</td>\n",
       "      <td>14.0</td>\n",
       "      <td>196</td>\n",
       "      <td>2</td>\n",
       "      <td>1</td>\n",
       "      <td>Soda</td>\n",
       "      <td>...</td>\n",
       "      <td>Regular customer</td>\n",
       "      <td>Female</td>\n",
       "      <td>Alabama</td>\n",
       "      <td>31</td>\n",
       "      <td>2/17/2019</td>\n",
       "      <td>3</td>\n",
       "      <td>married</td>\n",
       "      <td>40423</td>\n",
       "      <td>South</td>\n",
       "      <td>High activity</td>\n",
       "    </tr>\n",
       "    <tr>\n",
       "      <th>8</th>\n",
       "      <td>2295261</td>\n",
       "      <td>1</td>\n",
       "      <td>9</td>\n",
       "      <td>1</td>\n",
       "      <td>16</td>\n",
       "      <td>0.0</td>\n",
       "      <td>196</td>\n",
       "      <td>4</td>\n",
       "      <td>1</td>\n",
       "      <td>Soda</td>\n",
       "      <td>...</td>\n",
       "      <td>Regular customer</td>\n",
       "      <td>Female</td>\n",
       "      <td>Alabama</td>\n",
       "      <td>31</td>\n",
       "      <td>2/17/2019</td>\n",
       "      <td>3</td>\n",
       "      <td>married</td>\n",
       "      <td>40423</td>\n",
       "      <td>South</td>\n",
       "      <td>High activity</td>\n",
       "    </tr>\n",
       "  </tbody>\n",
       "</table>\n",
       "<p>5 rows × 33 columns</p>\n",
       "</div>"
      ],
      "text/plain": [
       "  order_id user_id  order_number  orders_day_of_week  order_hour_of_day  \\\n",
       "1  2398795       1             2                   3                  7   \n",
       "4   431534       1             5                   4                 15   \n",
       "5  3367565       1             6                   2                  7   \n",
       "7  3108588       1             8                   1                 14   \n",
       "8  2295261       1             9                   1                 16   \n",
       "\n",
       "   days_since_prior_order  product_id  add_to_cart_order  reordered  \\\n",
       "1                    15.0         196                  1          1   \n",
       "4                    28.0         196                  1          1   \n",
       "5                    19.0         196                  1          1   \n",
       "7                    14.0         196                  2          1   \n",
       "8                     0.0         196                  4          1   \n",
       "\n",
       "  product_name  ...  order_frequency_flag  gender    state age date_joined  \\\n",
       "1         Soda  ...      Regular customer  Female  Alabama  31   2/17/2019   \n",
       "4         Soda  ...      Regular customer  Female  Alabama  31   2/17/2019   \n",
       "5         Soda  ...      Regular customer  Female  Alabama  31   2/17/2019   \n",
       "7         Soda  ...      Regular customer  Female  Alabama  31   2/17/2019   \n",
       "8         Soda  ...      Regular customer  Female  Alabama  31   2/17/2019   \n",
       "\n",
       "  number_dependants family_status income  region exclusion_flag  \n",
       "1                 3       married  40423   South  High activity  \n",
       "4                 3       married  40423   South  High activity  \n",
       "5                 3       married  40423   South  High activity  \n",
       "7                 3       married  40423   South  High activity  \n",
       "8                 3       married  40423   South  High activity  \n",
       "\n",
       "[5 rows x 33 columns]"
      ]
     },
     "execution_count": 34,
     "metadata": {},
     "output_type": "execute_result"
    }
   ],
   "source": [
    "df_ords_prods_big.head()"
   ]
  },
  {
   "cell_type": "code",
   "execution_count": 35,
   "id": "d71dbd2c",
   "metadata": {},
   "outputs": [],
   "source": [
    "# Create a new dataframe wihtout low activity customers\n",
    "\n",
    "df_high = df_ords_prods_big.loc[df_ords_prods_big['exclusion_flag'] == 'High activity']"
   ]
  },
  {
   "cell_type": "code",
   "execution_count": 36,
   "id": "a2d144b1",
   "metadata": {},
   "outputs": [
    {
     "data": {
      "text/html": [
       "<div>\n",
       "<style scoped>\n",
       "    .dataframe tbody tr th:only-of-type {\n",
       "        vertical-align: middle;\n",
       "    }\n",
       "\n",
       "    .dataframe tbody tr th {\n",
       "        vertical-align: top;\n",
       "    }\n",
       "\n",
       "    .dataframe thead th {\n",
       "        text-align: right;\n",
       "    }\n",
       "</style>\n",
       "<table border=\"1\" class=\"dataframe\">\n",
       "  <thead>\n",
       "    <tr style=\"text-align: right;\">\n",
       "      <th></th>\n",
       "      <th>order_id</th>\n",
       "      <th>user_id</th>\n",
       "      <th>order_number</th>\n",
       "      <th>orders_day_of_week</th>\n",
       "      <th>order_hour_of_day</th>\n",
       "      <th>days_since_prior_order</th>\n",
       "      <th>product_id</th>\n",
       "      <th>add_to_cart_order</th>\n",
       "      <th>reordered</th>\n",
       "      <th>product_name</th>\n",
       "      <th>...</th>\n",
       "      <th>order_frequency_flag</th>\n",
       "      <th>gender</th>\n",
       "      <th>state</th>\n",
       "      <th>age</th>\n",
       "      <th>date_joined</th>\n",
       "      <th>number_dependants</th>\n",
       "      <th>family_status</th>\n",
       "      <th>income</th>\n",
       "      <th>region</th>\n",
       "      <th>exclusion_flag</th>\n",
       "    </tr>\n",
       "  </thead>\n",
       "  <tbody>\n",
       "    <tr>\n",
       "      <th>1</th>\n",
       "      <td>2398795</td>\n",
       "      <td>1</td>\n",
       "      <td>2</td>\n",
       "      <td>3</td>\n",
       "      <td>7</td>\n",
       "      <td>15.0</td>\n",
       "      <td>196</td>\n",
       "      <td>1</td>\n",
       "      <td>1</td>\n",
       "      <td>Soda</td>\n",
       "      <td>...</td>\n",
       "      <td>Regular customer</td>\n",
       "      <td>Female</td>\n",
       "      <td>Alabama</td>\n",
       "      <td>31</td>\n",
       "      <td>2/17/2019</td>\n",
       "      <td>3</td>\n",
       "      <td>married</td>\n",
       "      <td>40423</td>\n",
       "      <td>South</td>\n",
       "      <td>High activity</td>\n",
       "    </tr>\n",
       "    <tr>\n",
       "      <th>4</th>\n",
       "      <td>431534</td>\n",
       "      <td>1</td>\n",
       "      <td>5</td>\n",
       "      <td>4</td>\n",
       "      <td>15</td>\n",
       "      <td>28.0</td>\n",
       "      <td>196</td>\n",
       "      <td>1</td>\n",
       "      <td>1</td>\n",
       "      <td>Soda</td>\n",
       "      <td>...</td>\n",
       "      <td>Regular customer</td>\n",
       "      <td>Female</td>\n",
       "      <td>Alabama</td>\n",
       "      <td>31</td>\n",
       "      <td>2/17/2019</td>\n",
       "      <td>3</td>\n",
       "      <td>married</td>\n",
       "      <td>40423</td>\n",
       "      <td>South</td>\n",
       "      <td>High activity</td>\n",
       "    </tr>\n",
       "    <tr>\n",
       "      <th>5</th>\n",
       "      <td>3367565</td>\n",
       "      <td>1</td>\n",
       "      <td>6</td>\n",
       "      <td>2</td>\n",
       "      <td>7</td>\n",
       "      <td>19.0</td>\n",
       "      <td>196</td>\n",
       "      <td>1</td>\n",
       "      <td>1</td>\n",
       "      <td>Soda</td>\n",
       "      <td>...</td>\n",
       "      <td>Regular customer</td>\n",
       "      <td>Female</td>\n",
       "      <td>Alabama</td>\n",
       "      <td>31</td>\n",
       "      <td>2/17/2019</td>\n",
       "      <td>3</td>\n",
       "      <td>married</td>\n",
       "      <td>40423</td>\n",
       "      <td>South</td>\n",
       "      <td>High activity</td>\n",
       "    </tr>\n",
       "    <tr>\n",
       "      <th>7</th>\n",
       "      <td>3108588</td>\n",
       "      <td>1</td>\n",
       "      <td>8</td>\n",
       "      <td>1</td>\n",
       "      <td>14</td>\n",
       "      <td>14.0</td>\n",
       "      <td>196</td>\n",
       "      <td>2</td>\n",
       "      <td>1</td>\n",
       "      <td>Soda</td>\n",
       "      <td>...</td>\n",
       "      <td>Regular customer</td>\n",
       "      <td>Female</td>\n",
       "      <td>Alabama</td>\n",
       "      <td>31</td>\n",
       "      <td>2/17/2019</td>\n",
       "      <td>3</td>\n",
       "      <td>married</td>\n",
       "      <td>40423</td>\n",
       "      <td>South</td>\n",
       "      <td>High activity</td>\n",
       "    </tr>\n",
       "    <tr>\n",
       "      <th>8</th>\n",
       "      <td>2295261</td>\n",
       "      <td>1</td>\n",
       "      <td>9</td>\n",
       "      <td>1</td>\n",
       "      <td>16</td>\n",
       "      <td>0.0</td>\n",
       "      <td>196</td>\n",
       "      <td>4</td>\n",
       "      <td>1</td>\n",
       "      <td>Soda</td>\n",
       "      <td>...</td>\n",
       "      <td>Regular customer</td>\n",
       "      <td>Female</td>\n",
       "      <td>Alabama</td>\n",
       "      <td>31</td>\n",
       "      <td>2/17/2019</td>\n",
       "      <td>3</td>\n",
       "      <td>married</td>\n",
       "      <td>40423</td>\n",
       "      <td>South</td>\n",
       "      <td>High activity</td>\n",
       "    </tr>\n",
       "  </tbody>\n",
       "</table>\n",
       "<p>5 rows × 33 columns</p>\n",
       "</div>"
      ],
      "text/plain": [
       "  order_id user_id  order_number  orders_day_of_week  order_hour_of_day  \\\n",
       "1  2398795       1             2                   3                  7   \n",
       "4   431534       1             5                   4                 15   \n",
       "5  3367565       1             6                   2                  7   \n",
       "7  3108588       1             8                   1                 14   \n",
       "8  2295261       1             9                   1                 16   \n",
       "\n",
       "   days_since_prior_order  product_id  add_to_cart_order  reordered  \\\n",
       "1                    15.0         196                  1          1   \n",
       "4                    28.0         196                  1          1   \n",
       "5                    19.0         196                  1          1   \n",
       "7                    14.0         196                  2          1   \n",
       "8                     0.0         196                  4          1   \n",
       "\n",
       "  product_name  ...  order_frequency_flag  gender    state age date_joined  \\\n",
       "1         Soda  ...      Regular customer  Female  Alabama  31   2/17/2019   \n",
       "4         Soda  ...      Regular customer  Female  Alabama  31   2/17/2019   \n",
       "5         Soda  ...      Regular customer  Female  Alabama  31   2/17/2019   \n",
       "7         Soda  ...      Regular customer  Female  Alabama  31   2/17/2019   \n",
       "8         Soda  ...      Regular customer  Female  Alabama  31   2/17/2019   \n",
       "\n",
       "  number_dependants family_status income  region exclusion_flag  \n",
       "1                 3       married  40423   South  High activity  \n",
       "4                 3       married  40423   South  High activity  \n",
       "5                 3       married  40423   South  High activity  \n",
       "7                 3       married  40423   South  High activity  \n",
       "8                 3       married  40423   South  High activity  \n",
       "\n",
       "[5 rows x 33 columns]"
      ]
     },
     "execution_count": 36,
     "metadata": {},
     "output_type": "execute_result"
    }
   ],
   "source": [
    "# Check outcome\n",
    "\n",
    "df_high.head()"
   ]
  },
  {
   "cell_type": "code",
   "execution_count": 37,
   "id": "e50269b2",
   "metadata": {},
   "outputs": [
    {
     "data": {
      "text/plain": [
       "(21675811, 33)"
      ]
     },
     "execution_count": 37,
     "metadata": {},
     "output_type": "execute_result"
    }
   ],
   "source": [
    "# Check size\n",
    "\n",
    "df_high.shape "
   ]
  },
  {
   "cell_type": "code",
   "execution_count": 38,
   "id": "9def650f",
   "metadata": {},
   "outputs": [],
   "source": [
    "# Create a new dataframe with low-activity customers only\n",
    "\n",
    "df_low = df_ords_prods_big.loc[df_ords_prods_big['exclusion_flag'] == 'Low activity']"
   ]
  },
  {
   "cell_type": "code",
   "execution_count": 39,
   "id": "28329adf",
   "metadata": {},
   "outputs": [
    {
     "data": {
      "text/html": [
       "<div>\n",
       "<style scoped>\n",
       "    .dataframe tbody tr th:only-of-type {\n",
       "        vertical-align: middle;\n",
       "    }\n",
       "\n",
       "    .dataframe tbody tr th {\n",
       "        vertical-align: top;\n",
       "    }\n",
       "\n",
       "    .dataframe thead th {\n",
       "        text-align: right;\n",
       "    }\n",
       "</style>\n",
       "<table border=\"1\" class=\"dataframe\">\n",
       "  <thead>\n",
       "    <tr style=\"text-align: right;\">\n",
       "      <th></th>\n",
       "      <th>order_id</th>\n",
       "      <th>user_id</th>\n",
       "      <th>order_number</th>\n",
       "      <th>orders_day_of_week</th>\n",
       "      <th>order_hour_of_day</th>\n",
       "      <th>days_since_prior_order</th>\n",
       "      <th>product_id</th>\n",
       "      <th>add_to_cart_order</th>\n",
       "      <th>reordered</th>\n",
       "      <th>product_name</th>\n",
       "      <th>...</th>\n",
       "      <th>order_frequency_flag</th>\n",
       "      <th>gender</th>\n",
       "      <th>state</th>\n",
       "      <th>age</th>\n",
       "      <th>date_joined</th>\n",
       "      <th>number_dependants</th>\n",
       "      <th>family_status</th>\n",
       "      <th>income</th>\n",
       "      <th>region</th>\n",
       "      <th>exclusion_flag</th>\n",
       "    </tr>\n",
       "  </thead>\n",
       "  <tbody>\n",
       "    <tr>\n",
       "      <th>1510</th>\n",
       "      <td>520620</td>\n",
       "      <td>120</td>\n",
       "      <td>1</td>\n",
       "      <td>3</td>\n",
       "      <td>11</td>\n",
       "      <td>NaN</td>\n",
       "      <td>196</td>\n",
       "      <td>2</td>\n",
       "      <td>0</td>\n",
       "      <td>Soda</td>\n",
       "      <td>...</td>\n",
       "      <td>Regular customer</td>\n",
       "      <td>Female</td>\n",
       "      <td>Kentucky</td>\n",
       "      <td>54</td>\n",
       "      <td>3/2/2017</td>\n",
       "      <td>2</td>\n",
       "      <td>married</td>\n",
       "      <td>99219</td>\n",
       "      <td>South</td>\n",
       "      <td>Low activity</td>\n",
       "    </tr>\n",
       "    <tr>\n",
       "      <th>1511</th>\n",
       "      <td>3273029</td>\n",
       "      <td>120</td>\n",
       "      <td>3</td>\n",
       "      <td>2</td>\n",
       "      <td>8</td>\n",
       "      <td>19.0</td>\n",
       "      <td>196</td>\n",
       "      <td>2</td>\n",
       "      <td>1</td>\n",
       "      <td>Soda</td>\n",
       "      <td>...</td>\n",
       "      <td>Regular customer</td>\n",
       "      <td>Female</td>\n",
       "      <td>Kentucky</td>\n",
       "      <td>54</td>\n",
       "      <td>3/2/2017</td>\n",
       "      <td>2</td>\n",
       "      <td>married</td>\n",
       "      <td>99219</td>\n",
       "      <td>South</td>\n",
       "      <td>Low activity</td>\n",
       "    </tr>\n",
       "    <tr>\n",
       "      <th>1512</th>\n",
       "      <td>520620</td>\n",
       "      <td>120</td>\n",
       "      <td>1</td>\n",
       "      <td>3</td>\n",
       "      <td>11</td>\n",
       "      <td>NaN</td>\n",
       "      <td>46149</td>\n",
       "      <td>1</td>\n",
       "      <td>0</td>\n",
       "      <td>Zero Calorie Cola</td>\n",
       "      <td>...</td>\n",
       "      <td>Regular customer</td>\n",
       "      <td>Female</td>\n",
       "      <td>Kentucky</td>\n",
       "      <td>54</td>\n",
       "      <td>3/2/2017</td>\n",
       "      <td>2</td>\n",
       "      <td>married</td>\n",
       "      <td>99219</td>\n",
       "      <td>South</td>\n",
       "      <td>Low activity</td>\n",
       "    </tr>\n",
       "    <tr>\n",
       "      <th>1513</th>\n",
       "      <td>3273029</td>\n",
       "      <td>120</td>\n",
       "      <td>3</td>\n",
       "      <td>2</td>\n",
       "      <td>8</td>\n",
       "      <td>19.0</td>\n",
       "      <td>46149</td>\n",
       "      <td>1</td>\n",
       "      <td>1</td>\n",
       "      <td>Zero Calorie Cola</td>\n",
       "      <td>...</td>\n",
       "      <td>Regular customer</td>\n",
       "      <td>Female</td>\n",
       "      <td>Kentucky</td>\n",
       "      <td>54</td>\n",
       "      <td>3/2/2017</td>\n",
       "      <td>2</td>\n",
       "      <td>married</td>\n",
       "      <td>99219</td>\n",
       "      <td>South</td>\n",
       "      <td>Low activity</td>\n",
       "    </tr>\n",
       "    <tr>\n",
       "      <th>1514</th>\n",
       "      <td>520620</td>\n",
       "      <td>120</td>\n",
       "      <td>1</td>\n",
       "      <td>3</td>\n",
       "      <td>11</td>\n",
       "      <td>NaN</td>\n",
       "      <td>26348</td>\n",
       "      <td>3</td>\n",
       "      <td>0</td>\n",
       "      <td>Mixed Fruit Fruit Snacks</td>\n",
       "      <td>...</td>\n",
       "      <td>Regular customer</td>\n",
       "      <td>Female</td>\n",
       "      <td>Kentucky</td>\n",
       "      <td>54</td>\n",
       "      <td>3/2/2017</td>\n",
       "      <td>2</td>\n",
       "      <td>married</td>\n",
       "      <td>99219</td>\n",
       "      <td>South</td>\n",
       "      <td>Low activity</td>\n",
       "    </tr>\n",
       "  </tbody>\n",
       "</table>\n",
       "<p>5 rows × 33 columns</p>\n",
       "</div>"
      ],
      "text/plain": [
       "     order_id user_id  order_number  orders_day_of_week  order_hour_of_day  \\\n",
       "1510   520620     120             1                   3                 11   \n",
       "1511  3273029     120             3                   2                  8   \n",
       "1512   520620     120             1                   3                 11   \n",
       "1513  3273029     120             3                   2                  8   \n",
       "1514   520620     120             1                   3                 11   \n",
       "\n",
       "      days_since_prior_order  product_id  add_to_cart_order  reordered  \\\n",
       "1510                     NaN         196                  2          0   \n",
       "1511                    19.0         196                  2          1   \n",
       "1512                     NaN       46149                  1          0   \n",
       "1513                    19.0       46149                  1          1   \n",
       "1514                     NaN       26348                  3          0   \n",
       "\n",
       "                  product_name  ...  order_frequency_flag  gender     state  \\\n",
       "1510                      Soda  ...      Regular customer  Female  Kentucky   \n",
       "1511                      Soda  ...      Regular customer  Female  Kentucky   \n",
       "1512         Zero Calorie Cola  ...      Regular customer  Female  Kentucky   \n",
       "1513         Zero Calorie Cola  ...      Regular customer  Female  Kentucky   \n",
       "1514  Mixed Fruit Fruit Snacks  ...      Regular customer  Female  Kentucky   \n",
       "\n",
       "     age date_joined number_dependants family_status income  region  \\\n",
       "1510  54    3/2/2017                 2       married  99219   South   \n",
       "1511  54    3/2/2017                 2       married  99219   South   \n",
       "1512  54    3/2/2017                 2       married  99219   South   \n",
       "1513  54    3/2/2017                 2       married  99219   South   \n",
       "1514  54    3/2/2017                 2       married  99219   South   \n",
       "\n",
       "     exclusion_flag  \n",
       "1510   Low activity  \n",
       "1511   Low activity  \n",
       "1512   Low activity  \n",
       "1513   Low activity  \n",
       "1514   Low activity  \n",
       "\n",
       "[5 rows x 33 columns]"
      ]
     },
     "execution_count": 39,
     "metadata": {},
     "output_type": "execute_result"
    }
   ],
   "source": [
    "# Check outcome\n",
    "\n",
    "df_low.head()"
   ]
  },
  {
   "cell_type": "code",
   "execution_count": 116,
   "id": "1b3b36e9",
   "metadata": {},
   "outputs": [
    {
     "data": {
      "text/plain": [
       "(1008691, 33)"
      ]
     },
     "execution_count": 116,
     "metadata": {},
     "output_type": "execute_result"
    }
   ],
   "source": [
    "# Check size\n",
    "\n",
    "df_low.shape "
   ]
  },
  {
   "cell_type": "code",
   "execution_count": 118,
   "id": "24ed38d2",
   "metadata": {},
   "outputs": [],
   "source": [
    "# Export df_high and df-low\n",
    "\n",
    "df_high.to_pickle(os.path.join(path, '02 Data', 'Prepared Data', 'high_activity_customers.pkl'))\n",
    "df_low.to_pickle(os.path.join(path, '02 Data', 'Prepared Data', 'low_activity_customers.pkl'))"
   ]
  }
 ],
 "metadata": {
  "kernelspec": {
   "display_name": "Python 3 (ipykernel)",
   "language": "python",
   "name": "python3"
  },
  "language_info": {
   "codemirror_mode": {
    "name": "ipython",
    "version": 3
   },
   "file_extension": ".py",
   "mimetype": "text/x-python",
   "name": "python",
   "nbconvert_exporter": "python",
   "pygments_lexer": "ipython3",
   "version": "3.9.13"
  }
 },
 "nbformat": 4,
 "nbformat_minor": 5
}
