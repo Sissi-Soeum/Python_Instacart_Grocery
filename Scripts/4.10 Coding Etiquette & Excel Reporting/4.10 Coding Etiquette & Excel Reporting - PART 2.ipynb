{
 "cells": [
  {
   "cell_type": "markdown",
   "id": "f190265f",
   "metadata": {},
   "source": [
    "# This script contains the following points:\n",
    "\n",
    "## PART 2\n",
    "\n",
    "### 07. Profiling Instacart customers:\n",
    "#### Age Variable\n",
    "#### Income Variable\n",
    "#### Family status and Dependants\n",
    "#### Instacart Products"
   ]
  },
  {
   "cell_type": "code",
   "execution_count": 4,
   "id": "7291221a",
   "metadata": {},
   "outputs": [],
   "source": [
    "# Import libraries\n",
    "\n",
    "import pandas as pd\n",
    "import numpy as np\n",
    "import os\n",
    "import matplotlib.pyplot as plt\n",
    "import seaborn as sns\n",
    "import scipy"
   ]
  },
  {
   "cell_type": "code",
   "execution_count": 5,
   "id": "6880a508",
   "metadata": {},
   "outputs": [],
   "source": [
    "# Set path\n",
    "\n",
    "path = r'C:\\Users\\nang6\\OneDrive\\Bureau\\Data Analytics\\Data Immersion\\Achievement 4\\02-2020 Instacart Basket Analysis'"
   ]
  },
  {
   "cell_type": "code",
   "execution_count": 6,
   "id": "b0ededd4",
   "metadata": {},
   "outputs": [],
   "source": [
    "# Import high_activity_customers\n",
    "\n",
    "df_hcv = pd.read_pickle(os.path.join(path, '02 Data','Prepared Data', 'high_activity_customers.pkl'))"
   ]
  },
  {
   "cell_type": "code",
   "execution_count": 7,
   "id": "bfdbc671",
   "metadata": {},
   "outputs": [],
   "source": [
    "# Import departments\n",
    "\n",
    "df_depts = pd.read_csv(os.path.join(path, '02 Data','Prepared Data', 'departments_wrangled.csv'), index_col = False)"
   ]
  },
  {
   "cell_type": "code",
   "execution_count": 8,
   "id": "95ac6f4b",
   "metadata": {},
   "outputs": [
    {
     "name": "stdout",
     "output_type": "stream",
     "text": [
      "<class 'pandas.core.frame.DataFrame'>\n",
      "Int64Index: 21678634 entries, 1 to 32404854\n",
      "Data columns (total 33 columns):\n",
      " #   Column                         Dtype   \n",
      "---  ------                         -----   \n",
      " 0   order_id                       object  \n",
      " 1   user_id                        object  \n",
      " 2   order_number                   int8    \n",
      " 3   orders_day_of_week             int8    \n",
      " 4   order_hour_of_day              int8    \n",
      " 5   days_since_prior_order         float64 \n",
      " 6   product_id                     int32   \n",
      " 7   add_to_cart_order              int32   \n",
      " 8   reordered                      int8    \n",
      " 9   product_name                   object  \n",
      " 10  aisle_id                       int8    \n",
      " 11  department_id                  int8    \n",
      " 12  prices                         float64 \n",
      " 13  _merge                         category\n",
      " 14  price_range_loc                object  \n",
      " 15  busiest_day                    object  \n",
      " 16  busiest_days                   object  \n",
      " 17  busiest_period_of_day          object  \n",
      " 18  max_order                      int8    \n",
      " 19  loyalty_flag                   object  \n",
      " 20  average_price                  float64 \n",
      " 21  spending_flag                  object  \n",
      " 22  median_days_since_prior_order  float64 \n",
      " 23  order_frequency_flag           object  \n",
      " 24  gender                         object  \n",
      " 25  state                          object  \n",
      " 26  age                            int8    \n",
      " 27  date_joined                    object  \n",
      " 28  number_dependants              int16   \n",
      " 29  family_status                  object  \n",
      " 30  income                         int32   \n",
      " 31  region                         object  \n",
      " 32  exclusion_flag                 object  \n",
      "dtypes: category(1), float64(4), int16(1), int32(3), int8(8), object(16)\n",
      "memory usage: 3.9+ GB\n"
     ]
    }
   ],
   "source": [
    "# Check df_hcv info\n",
    "\n",
    "df_hcv.info()"
   ]
  },
  {
   "cell_type": "code",
   "execution_count": 9,
   "id": "fde7cf71",
   "metadata": {},
   "outputs": [
    {
     "data": {
      "text/html": [
       "<div>\n",
       "<style scoped>\n",
       "    .dataframe tbody tr th:only-of-type {\n",
       "        vertical-align: middle;\n",
       "    }\n",
       "\n",
       "    .dataframe tbody tr th {\n",
       "        vertical-align: top;\n",
       "    }\n",
       "\n",
       "    .dataframe thead th {\n",
       "        text-align: right;\n",
       "    }\n",
       "</style>\n",
       "<table border=\"1\" class=\"dataframe\">\n",
       "  <thead>\n",
       "    <tr style=\"text-align: right;\">\n",
       "      <th></th>\n",
       "      <th>department_id</th>\n",
       "      <th>department</th>\n",
       "    </tr>\n",
       "  </thead>\n",
       "  <tbody>\n",
       "    <tr>\n",
       "      <th>0</th>\n",
       "      <td>1</td>\n",
       "      <td>frozen</td>\n",
       "    </tr>\n",
       "    <tr>\n",
       "      <th>1</th>\n",
       "      <td>2</td>\n",
       "      <td>other</td>\n",
       "    </tr>\n",
       "    <tr>\n",
       "      <th>2</th>\n",
       "      <td>3</td>\n",
       "      <td>bakery</td>\n",
       "    </tr>\n",
       "    <tr>\n",
       "      <th>3</th>\n",
       "      <td>4</td>\n",
       "      <td>produce</td>\n",
       "    </tr>\n",
       "    <tr>\n",
       "      <th>4</th>\n",
       "      <td>5</td>\n",
       "      <td>alcohol</td>\n",
       "    </tr>\n",
       "    <tr>\n",
       "      <th>5</th>\n",
       "      <td>6</td>\n",
       "      <td>international</td>\n",
       "    </tr>\n",
       "    <tr>\n",
       "      <th>6</th>\n",
       "      <td>7</td>\n",
       "      <td>beverages</td>\n",
       "    </tr>\n",
       "    <tr>\n",
       "      <th>7</th>\n",
       "      <td>8</td>\n",
       "      <td>pets</td>\n",
       "    </tr>\n",
       "    <tr>\n",
       "      <th>8</th>\n",
       "      <td>9</td>\n",
       "      <td>dry goods pasta</td>\n",
       "    </tr>\n",
       "    <tr>\n",
       "      <th>9</th>\n",
       "      <td>10</td>\n",
       "      <td>bulk</td>\n",
       "    </tr>\n",
       "    <tr>\n",
       "      <th>10</th>\n",
       "      <td>11</td>\n",
       "      <td>personal care</td>\n",
       "    </tr>\n",
       "    <tr>\n",
       "      <th>11</th>\n",
       "      <td>12</td>\n",
       "      <td>meat seafood</td>\n",
       "    </tr>\n",
       "    <tr>\n",
       "      <th>12</th>\n",
       "      <td>13</td>\n",
       "      <td>pantry</td>\n",
       "    </tr>\n",
       "    <tr>\n",
       "      <th>13</th>\n",
       "      <td>14</td>\n",
       "      <td>breakfast</td>\n",
       "    </tr>\n",
       "    <tr>\n",
       "      <th>14</th>\n",
       "      <td>15</td>\n",
       "      <td>canned goods</td>\n",
       "    </tr>\n",
       "    <tr>\n",
       "      <th>15</th>\n",
       "      <td>16</td>\n",
       "      <td>dairy eggs</td>\n",
       "    </tr>\n",
       "    <tr>\n",
       "      <th>16</th>\n",
       "      <td>17</td>\n",
       "      <td>household</td>\n",
       "    </tr>\n",
       "    <tr>\n",
       "      <th>17</th>\n",
       "      <td>18</td>\n",
       "      <td>babies</td>\n",
       "    </tr>\n",
       "    <tr>\n",
       "      <th>18</th>\n",
       "      <td>19</td>\n",
       "      <td>snacks</td>\n",
       "    </tr>\n",
       "    <tr>\n",
       "      <th>19</th>\n",
       "      <td>20</td>\n",
       "      <td>deli</td>\n",
       "    </tr>\n",
       "    <tr>\n",
       "      <th>20</th>\n",
       "      <td>21</td>\n",
       "      <td>missing</td>\n",
       "    </tr>\n",
       "  </tbody>\n",
       "</table>\n",
       "</div>"
      ],
      "text/plain": [
       "    department_id       department\n",
       "0               1           frozen\n",
       "1               2            other\n",
       "2               3           bakery\n",
       "3               4          produce\n",
       "4               5          alcohol\n",
       "5               6    international\n",
       "6               7        beverages\n",
       "7               8             pets\n",
       "8               9  dry goods pasta\n",
       "9              10             bulk\n",
       "10             11    personal care\n",
       "11             12     meat seafood\n",
       "12             13           pantry\n",
       "13             14        breakfast\n",
       "14             15     canned goods\n",
       "15             16       dairy eggs\n",
       "16             17        household\n",
       "17             18           babies\n",
       "18             19           snacks\n",
       "19             20             deli\n",
       "20             21          missing"
      ]
     },
     "execution_count": 9,
     "metadata": {},
     "output_type": "execute_result"
    }
   ],
   "source": [
    "# Check df_depts info\n",
    "\n",
    "df_depts"
   ]
  },
  {
   "cell_type": "markdown",
   "id": "7f637ada",
   "metadata": {},
   "source": [
    "# 07. Profiling Instacart customers"
   ]
  },
  {
   "cell_type": "markdown",
   "id": "58a58f20",
   "metadata": {},
   "source": [
    "### The marketing and business strategy units at Instacart want to create more-relevant marketing strategies for different products and are, thus, curious about customer profiling in their database. Create a profiling variable based on age, income, certain goods in the “department_id” column, and number of dependents. You might also use the “orders_day_of_the_week” and “order_hour_of_day” columns if you can think of a way they would impact customer profiles"
   ]
  },
  {
   "cell_type": "markdown",
   "id": "c3208b59",
   "metadata": {},
   "source": [
    "# Age Variable"
   ]
  },
  {
   "cell_type": "code",
   "execution_count": 10,
   "id": "5f2b5051",
   "metadata": {},
   "outputs": [
    {
     "data": {
      "text/plain": [
       "count    2.167863e+07\n",
       "mean     4.946596e+01\n",
       "std      1.848724e+01\n",
       "min      1.800000e+01\n",
       "25%      3.300000e+01\n",
       "50%      4.900000e+01\n",
       "75%      6.500000e+01\n",
       "max      8.100000e+01\n",
       "Name: age, dtype: float64"
      ]
     },
     "execution_count": 10,
     "metadata": {},
     "output_type": "execute_result"
    }
   ],
   "source": [
    "# Descriptive statistics of 'age' column\n",
    "\n",
    "df_hcv['age'].describe()"
   ]
  },
  {
   "cell_type": "markdown",
   "id": "73a37eef",
   "metadata": {},
   "source": [
    "#### Observation: Minimum age is 18 and Maximum age is 81, therefore we can create different age categories."
   ]
  },
  {
   "cell_type": "code",
   "execution_count": 11,
   "id": "2c8126a2",
   "metadata": {},
   "outputs": [],
   "source": [
    "# Create age categories\n",
    "\n",
    "df_hcv.loc[(df_hcv['age'] >= 18) & (df_hcv['age'] < 40), 'age_category'] = 'Young Adult'"
   ]
  },
  {
   "cell_type": "code",
   "execution_count": 12,
   "id": "f7e197b9",
   "metadata": {},
   "outputs": [],
   "source": [
    "df_hcv.loc[(df_hcv['age'] >= 40) & (df_hcv['age'] < 65), 'age_category'] = 'Middle Age'"
   ]
  },
  {
   "cell_type": "code",
   "execution_count": 13,
   "id": "360308ad",
   "metadata": {},
   "outputs": [],
   "source": [
    "df_hcv.loc[df_hcv['age'] >= 65, 'age_category'] = 'Senior'"
   ]
  },
  {
   "cell_type": "code",
   "execution_count": 14,
   "id": "31717621",
   "metadata": {},
   "outputs": [
    {
     "data": {
      "text/plain": [
       "Middle Age     8471425\n",
       "Young Adult    7468625\n",
       "Senior         5738584\n",
       "Name: age_category, dtype: int64"
      ]
     },
     "execution_count": 14,
     "metadata": {},
     "output_type": "execute_result"
    }
   ],
   "source": [
    "# Check values\n",
    "\n",
    "df_hcv['age_category'].value_counts(dropna = False)"
   ]
  },
  {
   "cell_type": "markdown",
   "id": "431e8141",
   "metadata": {},
   "source": [
    "### Create a crosstab with 'orders_day_of_week' and 'age_category' columns"
   ]
  },
  {
   "cell_type": "code",
   "execution_count": 15,
   "id": "a5e38ba9",
   "metadata": {},
   "outputs": [],
   "source": [
    "crosstab_day_age = pd.crosstab(df_hcv['age_category'], df_hcv['orders_day_of_week'], dropna = False)"
   ]
  },
  {
   "cell_type": "code",
   "execution_count": 16,
   "id": "0b47f61b",
   "metadata": {},
   "outputs": [
    {
     "data": {
      "text/html": [
       "<div>\n",
       "<style scoped>\n",
       "    .dataframe tbody tr th:only-of-type {\n",
       "        vertical-align: middle;\n",
       "    }\n",
       "\n",
       "    .dataframe tbody tr th {\n",
       "        vertical-align: top;\n",
       "    }\n",
       "\n",
       "    .dataframe thead th {\n",
       "        text-align: right;\n",
       "    }\n",
       "</style>\n",
       "<table border=\"1\" class=\"dataframe\">\n",
       "  <thead>\n",
       "    <tr style=\"text-align: right;\">\n",
       "      <th>orders_day_of_week</th>\n",
       "      <th>0</th>\n",
       "      <th>1</th>\n",
       "      <th>2</th>\n",
       "      <th>3</th>\n",
       "      <th>4</th>\n",
       "      <th>5</th>\n",
       "      <th>6</th>\n",
       "    </tr>\n",
       "    <tr>\n",
       "      <th>age_category</th>\n",
       "      <th></th>\n",
       "      <th></th>\n",
       "      <th></th>\n",
       "      <th></th>\n",
       "      <th></th>\n",
       "      <th></th>\n",
       "      <th></th>\n",
       "    </tr>\n",
       "  </thead>\n",
       "  <tbody>\n",
       "    <tr>\n",
       "      <th>Middle Age</th>\n",
       "      <td>1610126</td>\n",
       "      <td>1478085</td>\n",
       "      <td>1107687</td>\n",
       "      <td>1001788</td>\n",
       "      <td>991273</td>\n",
       "      <td>1103909</td>\n",
       "      <td>1178557</td>\n",
       "    </tr>\n",
       "    <tr>\n",
       "      <th>Senior</th>\n",
       "      <td>1096533</td>\n",
       "      <td>992577</td>\n",
       "      <td>745879</td>\n",
       "      <td>684919</td>\n",
       "      <td>668567</td>\n",
       "      <td>746800</td>\n",
       "      <td>803309</td>\n",
       "    </tr>\n",
       "    <tr>\n",
       "      <th>Young Adult</th>\n",
       "      <td>1429298</td>\n",
       "      <td>1318007</td>\n",
       "      <td>963994</td>\n",
       "      <td>883207</td>\n",
       "      <td>877687</td>\n",
       "      <td>974004</td>\n",
       "      <td>1022428</td>\n",
       "    </tr>\n",
       "  </tbody>\n",
       "</table>\n",
       "</div>"
      ],
      "text/plain": [
       "orders_day_of_week        0        1        2        3       4        5  \\\n",
       "age_category                                                              \n",
       "Middle Age          1610126  1478085  1107687  1001788  991273  1103909   \n",
       "Senior              1096533   992577   745879   684919  668567   746800   \n",
       "Young Adult         1429298  1318007   963994   883207  877687   974004   \n",
       "\n",
       "orders_day_of_week        6  \n",
       "age_category                 \n",
       "Middle Age          1178557  \n",
       "Senior               803309  \n",
       "Young Adult         1022428  "
      ]
     },
     "execution_count": 16,
     "metadata": {},
     "output_type": "execute_result"
    }
   ],
   "source": [
    "crosstab_day_age"
   ]
  },
  {
   "cell_type": "code",
   "execution_count": 17,
   "id": "316a7e55",
   "metadata": {},
   "outputs": [
    {
     "data": {
      "text/plain": [
       "Text(0.5, 0, 'Age Category')"
      ]
     },
     "execution_count": 17,
     "metadata": {},
     "output_type": "execute_result"
    },
    {
     "data": {
      "image/png": "[encoded data removed]",
      "text/plain": [
       "<Figure size 640x480 with 1 Axes>"
      ]
     },
     "metadata": {},
     "output_type": "display_data"
    }
   ],
   "source": [
    "# Create a bar chart\n",
    "\n",
    "bar_day_age = crosstab_day_age.plot.bar(rot = 0, color = ['steelblue', 'dodgerblue', 'deepskyblue', 'lightblue', 'whitesmoke', 'powderblue', 'darkturquoise'])\n",
    "\n",
    "bar_day_age.legend(title = 'day_of_week', bbox_to_anchor = (1, 1), loc = 'upper left', labels = ['Saturday', 'Sunday', 'Monday', 'Tuesday', 'Wednesday', 'Thursday', 'Friday'])\n",
    "\n",
    "plt.title('Frequency of order during day of the week by age category', fontsize = 18, pad = 20)\n",
    "plt.ylabel('Order placed (in millions)', fontsize = 12)\n",
    "plt.xlabel('Age Category', fontsize = 12)"
   ]
  },
  {
   "cell_type": "markdown",
   "id": "46162723",
   "metadata": {},
   "source": [
    "#### Observation for all age categories: Busiest days are Saturday and Sunday. Slowest days are Tuesday and Wednesday."
   ]
  },
  {
   "cell_type": "code",
   "execution_count": 18,
   "id": "2a94a3f8",
   "metadata": {},
   "outputs": [],
   "source": [
    "# Export bar_day_age\n",
    "\n",
    "bar_day_age.figure.savefig(os.path.join(path, '04 Analysis','Visualizations', 'bar_orders_day_of_week_&_age_category.png'), bbox_inches = 'tight')"
   ]
  },
  {
   "cell_type": "markdown",
   "id": "961a5aa3",
   "metadata": {},
   "source": [
    "# Income Variable"
   ]
  },
  {
   "cell_type": "code",
   "execution_count": 19,
   "id": "5c8bbf49",
   "metadata": {},
   "outputs": [
    {
     "data": {
      "text/html": [
       "<div>\n",
       "<style scoped>\n",
       "    .dataframe tbody tr th:only-of-type {\n",
       "        vertical-align: middle;\n",
       "    }\n",
       "\n",
       "    .dataframe tbody tr th {\n",
       "        vertical-align: top;\n",
       "    }\n",
       "\n",
       "    .dataframe thead th {\n",
       "        text-align: right;\n",
       "    }\n",
       "</style>\n",
       "<table border=\"1\" class=\"dataframe\">\n",
       "  <thead>\n",
       "    <tr style=\"text-align: right;\">\n",
       "      <th></th>\n",
       "      <th>income</th>\n",
       "    </tr>\n",
       "  </thead>\n",
       "  <tbody>\n",
       "    <tr>\n",
       "      <th>mean</th>\n",
       "      <td>99671.200336</td>\n",
       "    </tr>\n",
       "    <tr>\n",
       "      <th>min</th>\n",
       "      <td>25903.000000</td>\n",
       "    </tr>\n",
       "    <tr>\n",
       "      <th>max</th>\n",
       "      <td>593901.000000</td>\n",
       "    </tr>\n",
       "  </tbody>\n",
       "</table>\n",
       "</div>"
      ],
      "text/plain": [
       "             income\n",
       "mean   99671.200336\n",
       "min    25903.000000\n",
       "max   593901.000000"
      ]
     },
     "execution_count": 19,
     "metadata": {},
     "output_type": "execute_result"
    }
   ],
   "source": [
    "# Descriptive statistics of 'income' column\n",
    "\n",
    "df_hcv.agg({ 'income' : ['mean', 'min', 'max']})"
   ]
  },
  {
   "cell_type": "markdown",
   "id": "6c8e80a4",
   "metadata": {},
   "source": [
    "#### Observation: Lowest income is 25 900 and the Highest is 593 900 USD."
   ]
  },
  {
   "cell_type": "code",
   "execution_count": 20,
   "id": "27218150",
   "metadata": {},
   "outputs": [],
   "source": [
    "# Calculate income percentiles\n",
    "\n",
    "quartile_income = list(df_hcv['income'].quantile([0.25, 0.5, 0.75]))"
   ]
  },
  {
   "cell_type": "code",
   "execution_count": 21,
   "id": "1eec651d",
   "metadata": {},
   "outputs": [
    {
     "data": {
      "text/plain": [
       "[67285.0, 96756.0, 128086.0]"
      ]
     },
     "execution_count": 21,
     "metadata": {},
     "output_type": "execute_result"
    }
   ],
   "source": [
    "# Check outcome\n",
    "\n",
    "quartile_income"
   ]
  },
  {
   "cell_type": "markdown",
   "id": "40ff154b",
   "metadata": {},
   "source": [
    "#### Observation: Based on the results, we can create income categories as follows: \n",
    "#### Low income:  < 70 000\n",
    "#### Middle income: >= 70 000 and < 120 000\n",
    "#### High income: >= 120 000"
   ]
  },
  {
   "cell_type": "code",
   "execution_count": 22,
   "id": "0b343eda",
   "metadata": {},
   "outputs": [],
   "source": [
    "# Create income_flag\n",
    "\n",
    "df_hcv.loc[df_hcv['income']< 70000, 'income_flag'] = 'Low'"
   ]
  },
  {
   "cell_type": "code",
   "execution_count": 23,
   "id": "a344a8dc",
   "metadata": {},
   "outputs": [],
   "source": [
    "df_hcv.loc[(df_hcv['income']>= 70000) & (df_hcv['income']< 120000), 'income_flag'] = 'Middle'"
   ]
  },
  {
   "cell_type": "code",
   "execution_count": 24,
   "id": "08366d68",
   "metadata": {},
   "outputs": [],
   "source": [
    "df_hcv.loc[df_hcv['income']>= 120000, 'income_flag'] = 'High'"
   ]
  },
  {
   "cell_type": "code",
   "execution_count": 25,
   "id": "8b29cd5d",
   "metadata": {},
   "outputs": [
    {
     "data": {
      "text/plain": [
       "Middle    9285112\n",
       "High      6426294\n",
       "Low       5967228\n",
       "Name: income_flag, dtype: int64"
      ]
     },
     "execution_count": 25,
     "metadata": {},
     "output_type": "execute_result"
    }
   ],
   "source": [
    "# Check values\n",
    "\n",
    "df_hcv['income_flag'].value_counts()"
   ]
  },
  {
   "cell_type": "code",
   "execution_count": 26,
   "id": "73a89091",
   "metadata": {},
   "outputs": [
    {
     "data": {
      "text/html": [
       "<div>\n",
       "<style scoped>\n",
       "    .dataframe tbody tr th:only-of-type {\n",
       "        vertical-align: middle;\n",
       "    }\n",
       "\n",
       "    .dataframe tbody tr th {\n",
       "        vertical-align: top;\n",
       "    }\n",
       "\n",
       "    .dataframe thead th {\n",
       "        text-align: right;\n",
       "    }\n",
       "</style>\n",
       "<table border=\"1\" class=\"dataframe\">\n",
       "  <thead>\n",
       "    <tr style=\"text-align: right;\">\n",
       "      <th></th>\n",
       "      <th>order_id</th>\n",
       "      <th>user_id</th>\n",
       "      <th>order_number</th>\n",
       "      <th>orders_day_of_week</th>\n",
       "      <th>order_hour_of_day</th>\n",
       "      <th>days_since_prior_order</th>\n",
       "      <th>product_id</th>\n",
       "      <th>add_to_cart_order</th>\n",
       "      <th>reordered</th>\n",
       "      <th>product_name</th>\n",
       "      <th>...</th>\n",
       "      <th>state</th>\n",
       "      <th>age</th>\n",
       "      <th>date_joined</th>\n",
       "      <th>number_dependants</th>\n",
       "      <th>family_status</th>\n",
       "      <th>income</th>\n",
       "      <th>region</th>\n",
       "      <th>exclusion_flag</th>\n",
       "      <th>age_category</th>\n",
       "      <th>income_flag</th>\n",
       "    </tr>\n",
       "  </thead>\n",
       "  <tbody>\n",
       "    <tr>\n",
       "      <th>1</th>\n",
       "      <td>2398795</td>\n",
       "      <td>1</td>\n",
       "      <td>2</td>\n",
       "      <td>3</td>\n",
       "      <td>7</td>\n",
       "      <td>15.0</td>\n",
       "      <td>196</td>\n",
       "      <td>1</td>\n",
       "      <td>1</td>\n",
       "      <td>Soda</td>\n",
       "      <td>...</td>\n",
       "      <td>Alabama</td>\n",
       "      <td>31</td>\n",
       "      <td>2/17/2019</td>\n",
       "      <td>3</td>\n",
       "      <td>married</td>\n",
       "      <td>40423</td>\n",
       "      <td>South</td>\n",
       "      <td>High activity</td>\n",
       "      <td>Young Adult</td>\n",
       "      <td>Low</td>\n",
       "    </tr>\n",
       "    <tr>\n",
       "      <th>3</th>\n",
       "      <td>2254736</td>\n",
       "      <td>1</td>\n",
       "      <td>4</td>\n",
       "      <td>4</td>\n",
       "      <td>7</td>\n",
       "      <td>29.0</td>\n",
       "      <td>196</td>\n",
       "      <td>1</td>\n",
       "      <td>1</td>\n",
       "      <td>Soda</td>\n",
       "      <td>...</td>\n",
       "      <td>Alabama</td>\n",
       "      <td>31</td>\n",
       "      <td>2/17/2019</td>\n",
       "      <td>3</td>\n",
       "      <td>married</td>\n",
       "      <td>40423</td>\n",
       "      <td>South</td>\n",
       "      <td>High activity</td>\n",
       "      <td>Young Adult</td>\n",
       "      <td>Low</td>\n",
       "    </tr>\n",
       "    <tr>\n",
       "      <th>4</th>\n",
       "      <td>431534</td>\n",
       "      <td>1</td>\n",
       "      <td>5</td>\n",
       "      <td>4</td>\n",
       "      <td>15</td>\n",
       "      <td>28.0</td>\n",
       "      <td>196</td>\n",
       "      <td>1</td>\n",
       "      <td>1</td>\n",
       "      <td>Soda</td>\n",
       "      <td>...</td>\n",
       "      <td>Alabama</td>\n",
       "      <td>31</td>\n",
       "      <td>2/17/2019</td>\n",
       "      <td>3</td>\n",
       "      <td>married</td>\n",
       "      <td>40423</td>\n",
       "      <td>South</td>\n",
       "      <td>High activity</td>\n",
       "      <td>Young Adult</td>\n",
       "      <td>Low</td>\n",
       "    </tr>\n",
       "    <tr>\n",
       "      <th>5</th>\n",
       "      <td>3367565</td>\n",
       "      <td>1</td>\n",
       "      <td>6</td>\n",
       "      <td>2</td>\n",
       "      <td>7</td>\n",
       "      <td>19.0</td>\n",
       "      <td>196</td>\n",
       "      <td>1</td>\n",
       "      <td>1</td>\n",
       "      <td>Soda</td>\n",
       "      <td>...</td>\n",
       "      <td>Alabama</td>\n",
       "      <td>31</td>\n",
       "      <td>2/17/2019</td>\n",
       "      <td>3</td>\n",
       "      <td>married</td>\n",
       "      <td>40423</td>\n",
       "      <td>South</td>\n",
       "      <td>High activity</td>\n",
       "      <td>Young Adult</td>\n",
       "      <td>Low</td>\n",
       "    </tr>\n",
       "    <tr>\n",
       "      <th>6</th>\n",
       "      <td>550135</td>\n",
       "      <td>1</td>\n",
       "      <td>7</td>\n",
       "      <td>1</td>\n",
       "      <td>9</td>\n",
       "      <td>20.0</td>\n",
       "      <td>196</td>\n",
       "      <td>1</td>\n",
       "      <td>1</td>\n",
       "      <td>Soda</td>\n",
       "      <td>...</td>\n",
       "      <td>Alabama</td>\n",
       "      <td>31</td>\n",
       "      <td>2/17/2019</td>\n",
       "      <td>3</td>\n",
       "      <td>married</td>\n",
       "      <td>40423</td>\n",
       "      <td>South</td>\n",
       "      <td>High activity</td>\n",
       "      <td>Young Adult</td>\n",
       "      <td>Low</td>\n",
       "    </tr>\n",
       "  </tbody>\n",
       "</table>\n",
       "<p>5 rows × 35 columns</p>\n",
       "</div>"
      ],
      "text/plain": [
       "  order_id user_id  order_number  orders_day_of_week  order_hour_of_day  \\\n",
       "1  2398795       1             2                   3                  7   \n",
       "3  2254736       1             4                   4                  7   \n",
       "4   431534       1             5                   4                 15   \n",
       "5  3367565       1             6                   2                  7   \n",
       "6   550135       1             7                   1                  9   \n",
       "\n",
       "   days_since_prior_order  product_id  add_to_cart_order  reordered  \\\n",
       "1                    15.0         196                  1          1   \n",
       "3                    29.0         196                  1          1   \n",
       "4                    28.0         196                  1          1   \n",
       "5                    19.0         196                  1          1   \n",
       "6                    20.0         196                  1          1   \n",
       "\n",
       "  product_name  ...    state  age  date_joined number_dependants  \\\n",
       "1         Soda  ...  Alabama   31    2/17/2019                 3   \n",
       "3         Soda  ...  Alabama   31    2/17/2019                 3   \n",
       "4         Soda  ...  Alabama   31    2/17/2019                 3   \n",
       "5         Soda  ...  Alabama   31    2/17/2019                 3   \n",
       "6         Soda  ...  Alabama   31    2/17/2019                 3   \n",
       "\n",
       "  family_status income region exclusion_flag  age_category income_flag  \n",
       "1       married  40423  South  High activity   Young Adult         Low  \n",
       "3       married  40423  South  High activity   Young Adult         Low  \n",
       "4       married  40423  South  High activity   Young Adult         Low  \n",
       "5       married  40423  South  High activity   Young Adult         Low  \n",
       "6       married  40423  South  High activity   Young Adult         Low  \n",
       "\n",
       "[5 rows x 35 columns]"
      ]
     },
     "execution_count": 26,
     "metadata": {},
     "output_type": "execute_result"
    }
   ],
   "source": [
    "df_hcv.head()"
   ]
  },
  {
   "cell_type": "markdown",
   "id": "19b0c145",
   "metadata": {},
   "source": [
    "### Create a crosstab with  'income_flag' and 'region' columns"
   ]
  },
  {
   "cell_type": "code",
   "execution_count": 27,
   "id": "4e952027",
   "metadata": {},
   "outputs": [],
   "source": [
    "# Create Crosstab \n",
    "\n",
    "crosstab_income_region = pd.crosstab (df_hcv['region'],df_hcv['income_flag'], dropna = False)"
   ]
  },
  {
   "cell_type": "code",
   "execution_count": 28,
   "id": "ffd2b050",
   "metadata": {},
   "outputs": [
    {
     "data": {
      "text/html": [
       "<div>\n",
       "<style scoped>\n",
       "    .dataframe tbody tr th:only-of-type {\n",
       "        vertical-align: middle;\n",
       "    }\n",
       "\n",
       "    .dataframe tbody tr th {\n",
       "        vertical-align: top;\n",
       "    }\n",
       "\n",
       "    .dataframe thead th {\n",
       "        text-align: right;\n",
       "    }\n",
       "</style>\n",
       "<table border=\"1\" class=\"dataframe\">\n",
       "  <thead>\n",
       "    <tr style=\"text-align: right;\">\n",
       "      <th>income_flag</th>\n",
       "      <th>High</th>\n",
       "      <th>Low</th>\n",
       "      <th>Middle</th>\n",
       "    </tr>\n",
       "    <tr>\n",
       "      <th>region</th>\n",
       "      <th></th>\n",
       "      <th></th>\n",
       "      <th></th>\n",
       "    </tr>\n",
       "  </thead>\n",
       "  <tbody>\n",
       "    <tr>\n",
       "      <th>Midwest</th>\n",
       "      <td>1532830</td>\n",
       "      <td>1382232</td>\n",
       "      <td>2168774</td>\n",
       "    </tr>\n",
       "    <tr>\n",
       "      <th>Northeast</th>\n",
       "      <td>1140578</td>\n",
       "      <td>1041982</td>\n",
       "      <td>1644006</td>\n",
       "    </tr>\n",
       "    <tr>\n",
       "      <th>South</th>\n",
       "      <td>2116340</td>\n",
       "      <td>1995874</td>\n",
       "      <td>3107176</td>\n",
       "    </tr>\n",
       "    <tr>\n",
       "      <th>West</th>\n",
       "      <td>1636546</td>\n",
       "      <td>1547140</td>\n",
       "      <td>2365156</td>\n",
       "    </tr>\n",
       "  </tbody>\n",
       "</table>\n",
       "</div>"
      ],
      "text/plain": [
       "income_flag     High      Low   Middle\n",
       "region                                \n",
       "Midwest      1532830  1382232  2168774\n",
       "Northeast    1140578  1041982  1644006\n",
       "South        2116340  1995874  3107176\n",
       "West         1636546  1547140  2365156"
      ]
     },
     "execution_count": 28,
     "metadata": {},
     "output_type": "execute_result"
    }
   ],
   "source": [
    "crosstab_income_region"
   ]
  },
  {
   "cell_type": "code",
   "execution_count": 29,
   "id": "75a54542",
   "metadata": {},
   "outputs": [
    {
     "data": {
      "text/plain": [
       "Text(0.5, 0, 'Region')"
      ]
     },
     "execution_count": 29,
     "metadata": {},
     "output_type": "execute_result"
    },
    {
     "data": {
      "image/png": "[encoded data removed]",
      "text/plain": [
       "<Figure size 640x480 with 1 Axes>"
      ]
     },
     "metadata": {},
     "output_type": "display_data"
    }
   ],
   "source": [
    "# Create a bar chart\n",
    "\n",
    "bar_income_region = crosstab_income_region.plot.bar(rot = 0, color = ['gainsboro', 'silver', 'grey'])\n",
    "\n",
    "bar_income_region.legend(title = 'income_category', bbox_to_anchor = (1, 1), loc = 'upper left', labels = ['High', 'Middle', 'Low'])\n",
    "\n",
    "plt.title('Income category by Region', fontsize = 18, pad = 20)\n",
    "plt.ylabel('Income (in millions)', fontsize = 12)\n",
    "plt.xlabel('Region', fontsize = 12)"
   ]
  },
  {
   "cell_type": "markdown",
   "id": "85d75498",
   "metadata": {},
   "source": [
    "#### Observation: Accros all regions, most Instacartcustomers are from low income category."
   ]
  },
  {
   "cell_type": "code",
   "execution_count": 30,
   "id": "2678a3af",
   "metadata": {},
   "outputs": [],
   "source": [
    "# Export\n",
    "\n",
    "bar_income_region.figure.savefig(os.path.join(path, '04 Analysis','Visualizations', 'bar_income_region.png'), bbox_inches = 'tight')"
   ]
  },
  {
   "cell_type": "markdown",
   "id": "dd8215d1",
   "metadata": {},
   "source": [
    "# Family status and Dependants"
   ]
  },
  {
   "cell_type": "code",
   "execution_count": 31,
   "id": "93e283cc",
   "metadata": {},
   "outputs": [
    {
     "data": {
      "text/plain": [
       "0    5418042\n",
       "1    5403418\n",
       "2    5415446\n",
       "3    5441728\n",
       "Name: number_dependants, dtype: int64"
      ]
     },
     "execution_count": 31,
     "metadata": {},
     "output_type": "execute_result"
    }
   ],
   "source": [
    "# Check 'number_dependants' values\n",
    "\n",
    "df_hcv['number_dependants'].value_counts().sort_index()"
   ]
  },
  {
   "cell_type": "code",
   "execution_count": 32,
   "id": "a8c1d4c6",
   "metadata": {},
   "outputs": [],
   "source": [
    "# Create a new column 'dependants_flag' to check whether dependants are present or not\n",
    "\n",
    "df_hcv.loc[df_hcv['number_dependants'] >= 1, 'dependants_flag'] = 'with dependants'"
   ]
  },
  {
   "cell_type": "code",
   "execution_count": 33,
   "id": "40dbe84f",
   "metadata": {},
   "outputs": [],
   "source": [
    "df_hcv.loc[df_hcv['number_dependants'] < 1, 'dependants_flag'] = 'no dependants'"
   ]
  },
  {
   "cell_type": "code",
   "execution_count": 34,
   "id": "e2f16baa",
   "metadata": {},
   "outputs": [
    {
     "data": {
      "text/plain": [
       "with dependants    16260592\n",
       "no dependants       5418042\n",
       "Name: dependants_flag, dtype: int64"
      ]
     },
     "execution_count": 34,
     "metadata": {},
     "output_type": "execute_result"
    }
   ],
   "source": [
    "# Check values \n",
    "\n",
    "df_hcv['dependants_flag'].value_counts(dropna = False)"
   ]
  },
  {
   "cell_type": "markdown",
   "id": "90e5f2ac",
   "metadata": {},
   "source": [
    "### Create a crosstab with 'family_status' and 'dependants_flag' columns¶"
   ]
  },
  {
   "cell_type": "code",
   "execution_count": 35,
   "id": "4f080121",
   "metadata": {},
   "outputs": [],
   "source": [
    "crosstab_family = pd.crosstab(df_hcv['family_status'],df_hcv['dependants_flag'],dropna = False)"
   ]
  },
  {
   "cell_type": "code",
   "execution_count": 36,
   "id": "7da6f9dc",
   "metadata": {},
   "outputs": [
    {
     "data": {
      "text/html": [
       "<div>\n",
       "<style scoped>\n",
       "    .dataframe tbody tr th:only-of-type {\n",
       "        vertical-align: middle;\n",
       "    }\n",
       "\n",
       "    .dataframe tbody tr th {\n",
       "        vertical-align: top;\n",
       "    }\n",
       "\n",
       "    .dataframe thead th {\n",
       "        text-align: right;\n",
       "    }\n",
       "</style>\n",
       "<table border=\"1\" class=\"dataframe\">\n",
       "  <thead>\n",
       "    <tr style=\"text-align: right;\">\n",
       "      <th>dependants_flag</th>\n",
       "      <th>no dependants</th>\n",
       "      <th>with dependants</th>\n",
       "    </tr>\n",
       "    <tr>\n",
       "      <th>family_status</th>\n",
       "      <th></th>\n",
       "      <th></th>\n",
       "    </tr>\n",
       "  </thead>\n",
       "  <tbody>\n",
       "    <tr>\n",
       "      <th>divorced/widowed</th>\n",
       "      <td>1851520</td>\n",
       "      <td>0</td>\n",
       "    </tr>\n",
       "    <tr>\n",
       "      <th>living with parents and siblings</th>\n",
       "      <td>0</td>\n",
       "      <td>1037368</td>\n",
       "    </tr>\n",
       "    <tr>\n",
       "      <th>married</th>\n",
       "      <td>0</td>\n",
       "      <td>15223224</td>\n",
       "    </tr>\n",
       "    <tr>\n",
       "      <th>single</th>\n",
       "      <td>3566522</td>\n",
       "      <td>0</td>\n",
       "    </tr>\n",
       "  </tbody>\n",
       "</table>\n",
       "</div>"
      ],
      "text/plain": [
       "dependants_flag                   no dependants  with dependants\n",
       "family_status                                                   \n",
       "divorced/widowed                        1851520                0\n",
       "living with parents and siblings              0          1037368\n",
       "married                                       0         15223224\n",
       "single                                  3566522                0"
      ]
     },
     "execution_count": 36,
     "metadata": {},
     "output_type": "execute_result"
    }
   ],
   "source": [
    "crosstab_family"
   ]
  },
  {
   "cell_type": "markdown",
   "id": "72fb5862",
   "metadata": {},
   "source": [
    "#### Observation: As dependant is not specified in this case, it could be children, relatives, animals, etc.\n",
    "\n",
    "#### Family with dependants = are married couple and family living with parents and siblings.\n",
    "#### Family without dependants = divorced/widowed and singles."
   ]
  },
  {
   "cell_type": "code",
   "execution_count": 37,
   "id": "b150e360",
   "metadata": {},
   "outputs": [],
   "source": [
    "# Create a new 'household' column based on 'family_statuts' and ' income_flag'\n",
    "\n",
    "df_hcv.loc[(df_hcv['family_status'] == 'divorced/widowed') | (df_hcv['family_status'] == 'single') & (df_hcv['income_flag'] == 'High'), 'household'] = 'One person no dependants-High'"
   ]
  },
  {
   "cell_type": "code",
   "execution_count": 38,
   "id": "5d429b33",
   "metadata": {},
   "outputs": [],
   "source": [
    "df_hcv.loc[(df_hcv['family_status'] == 'divorced/widowed') | (df_hcv['family_status'] == 'single') & (df_hcv['income_flag'] == 'Middle'), 'household'] = 'One person no dependants-Middle'"
   ]
  },
  {
   "cell_type": "code",
   "execution_count": 39,
   "id": "81ec7cd8",
   "metadata": {},
   "outputs": [],
   "source": [
    "df_hcv.loc[(df_hcv['family_status'] == 'divorced/widowed') | (df_hcv['family_status'] == 'single') & (df_hcv['income_flag'] == 'Low'), 'household'] = 'One person no dependants-Low'"
   ]
  },
  {
   "cell_type": "code",
   "execution_count": 40,
   "id": "7214a50f",
   "metadata": {},
   "outputs": [],
   "source": [
    "df_hcv.loc[(df_hcv['family_status'] == 'living with parents and siblings') & (df_hcv['income_flag'] == 'High'), 'household'] = 'Family with dependants-High'"
   ]
  },
  {
   "cell_type": "code",
   "execution_count": 41,
   "id": "2b144a0c",
   "metadata": {},
   "outputs": [],
   "source": [
    "df_hcv.loc[(df_hcv['family_status'] == 'living with parents and siblings') & (df_hcv['income_flag'] == 'Middle'), 'household'] = 'Family with dependants-Middle'"
   ]
  },
  {
   "cell_type": "code",
   "execution_count": 42,
   "id": "fbbb88ac",
   "metadata": {},
   "outputs": [],
   "source": [
    "df_hcv.loc[(df_hcv['family_status'] == 'living with parents and siblings') & (df_hcv['income_flag'] == 'Low'), 'household'] = 'Family with dependants-Low'"
   ]
  },
  {
   "cell_type": "code",
   "execution_count": 43,
   "id": "e067a0fb",
   "metadata": {},
   "outputs": [],
   "source": [
    "df_hcv.loc[(df_hcv['family_status'] == 'married') & (df_hcv['income_flag'] == 'High'), 'household'] = 'Family no dependants-High'"
   ]
  },
  {
   "cell_type": "code",
   "execution_count": 44,
   "id": "8a4356fe",
   "metadata": {},
   "outputs": [],
   "source": [
    "df_hcv.loc[(df_hcv['family_status'] == 'married') & (df_hcv['income_flag'] == 'Middle'), 'household'] = 'Family no dependants-Middle'"
   ]
  },
  {
   "cell_type": "code",
   "execution_count": 45,
   "id": "d9787775",
   "metadata": {},
   "outputs": [],
   "source": [
    "df_hcv.loc[(df_hcv['family_status'] == 'married') & (df_hcv['income_flag'] == 'Low'), 'household'] = 'Family no dependants-Low'"
   ]
  },
  {
   "cell_type": "code",
   "execution_count": 46,
   "id": "380114c1",
   "metadata": {},
   "outputs": [
    {
     "data": {
      "text/plain": [
       "Family no dependants-Middle        6478241\n",
       "Family no dependants-High          4789912\n",
       "Family no dependants-Low           3955071\n",
       "One person no dependants-Low       3097782\n",
       "One person no dependants-Middle    1545269\n",
       "One person no dependants-High       774991\n",
       "Family with dependants-Low          519186\n",
       "Family with dependants-Middle       505343\n",
       "Family with dependants-High          12839\n",
       "Name: household, dtype: int64"
      ]
     },
     "execution_count": 46,
     "metadata": {},
     "output_type": "execute_result"
    }
   ],
   "source": [
    "df_hcv['household'].value_counts(dropna = False)"
   ]
  },
  {
   "cell_type": "code",
   "execution_count": 47,
   "id": "1c0b1bb4",
   "metadata": {},
   "outputs": [
    {
     "data": {
      "text/html": [
       "<div>\n",
       "<style scoped>\n",
       "    .dataframe tbody tr th:only-of-type {\n",
       "        vertical-align: middle;\n",
       "    }\n",
       "\n",
       "    .dataframe tbody tr th {\n",
       "        vertical-align: top;\n",
       "    }\n",
       "\n",
       "    .dataframe thead th {\n",
       "        text-align: right;\n",
       "    }\n",
       "</style>\n",
       "<table border=\"1\" class=\"dataframe\">\n",
       "  <thead>\n",
       "    <tr style=\"text-align: right;\">\n",
       "      <th></th>\n",
       "      <th>order_id</th>\n",
       "      <th>user_id</th>\n",
       "      <th>order_number</th>\n",
       "      <th>orders_day_of_week</th>\n",
       "      <th>order_hour_of_day</th>\n",
       "      <th>days_since_prior_order</th>\n",
       "      <th>product_id</th>\n",
       "      <th>add_to_cart_order</th>\n",
       "      <th>reordered</th>\n",
       "      <th>product_name</th>\n",
       "      <th>...</th>\n",
       "      <th>date_joined</th>\n",
       "      <th>number_dependants</th>\n",
       "      <th>family_status</th>\n",
       "      <th>income</th>\n",
       "      <th>region</th>\n",
       "      <th>exclusion_flag</th>\n",
       "      <th>age_category</th>\n",
       "      <th>income_flag</th>\n",
       "      <th>dependants_flag</th>\n",
       "      <th>household</th>\n",
       "    </tr>\n",
       "  </thead>\n",
       "  <tbody>\n",
       "    <tr>\n",
       "      <th>1</th>\n",
       "      <td>2398795</td>\n",
       "      <td>1</td>\n",
       "      <td>2</td>\n",
       "      <td>3</td>\n",
       "      <td>7</td>\n",
       "      <td>15.0</td>\n",
       "      <td>196</td>\n",
       "      <td>1</td>\n",
       "      <td>1</td>\n",
       "      <td>Soda</td>\n",
       "      <td>...</td>\n",
       "      <td>2/17/2019</td>\n",
       "      <td>3</td>\n",
       "      <td>married</td>\n",
       "      <td>40423</td>\n",
       "      <td>South</td>\n",
       "      <td>High activity</td>\n",
       "      <td>Young Adult</td>\n",
       "      <td>Low</td>\n",
       "      <td>with dependants</td>\n",
       "      <td>Family no dependants-Low</td>\n",
       "    </tr>\n",
       "    <tr>\n",
       "      <th>3</th>\n",
       "      <td>2254736</td>\n",
       "      <td>1</td>\n",
       "      <td>4</td>\n",
       "      <td>4</td>\n",
       "      <td>7</td>\n",
       "      <td>29.0</td>\n",
       "      <td>196</td>\n",
       "      <td>1</td>\n",
       "      <td>1</td>\n",
       "      <td>Soda</td>\n",
       "      <td>...</td>\n",
       "      <td>2/17/2019</td>\n",
       "      <td>3</td>\n",
       "      <td>married</td>\n",
       "      <td>40423</td>\n",
       "      <td>South</td>\n",
       "      <td>High activity</td>\n",
       "      <td>Young Adult</td>\n",
       "      <td>Low</td>\n",
       "      <td>with dependants</td>\n",
       "      <td>Family no dependants-Low</td>\n",
       "    </tr>\n",
       "    <tr>\n",
       "      <th>4</th>\n",
       "      <td>431534</td>\n",
       "      <td>1</td>\n",
       "      <td>5</td>\n",
       "      <td>4</td>\n",
       "      <td>15</td>\n",
       "      <td>28.0</td>\n",
       "      <td>196</td>\n",
       "      <td>1</td>\n",
       "      <td>1</td>\n",
       "      <td>Soda</td>\n",
       "      <td>...</td>\n",
       "      <td>2/17/2019</td>\n",
       "      <td>3</td>\n",
       "      <td>married</td>\n",
       "      <td>40423</td>\n",
       "      <td>South</td>\n",
       "      <td>High activity</td>\n",
       "      <td>Young Adult</td>\n",
       "      <td>Low</td>\n",
       "      <td>with dependants</td>\n",
       "      <td>Family no dependants-Low</td>\n",
       "    </tr>\n",
       "    <tr>\n",
       "      <th>5</th>\n",
       "      <td>3367565</td>\n",
       "      <td>1</td>\n",
       "      <td>6</td>\n",
       "      <td>2</td>\n",
       "      <td>7</td>\n",
       "      <td>19.0</td>\n",
       "      <td>196</td>\n",
       "      <td>1</td>\n",
       "      <td>1</td>\n",
       "      <td>Soda</td>\n",
       "      <td>...</td>\n",
       "      <td>2/17/2019</td>\n",
       "      <td>3</td>\n",
       "      <td>married</td>\n",
       "      <td>40423</td>\n",
       "      <td>South</td>\n",
       "      <td>High activity</td>\n",
       "      <td>Young Adult</td>\n",
       "      <td>Low</td>\n",
       "      <td>with dependants</td>\n",
       "      <td>Family no dependants-Low</td>\n",
       "    </tr>\n",
       "    <tr>\n",
       "      <th>6</th>\n",
       "      <td>550135</td>\n",
       "      <td>1</td>\n",
       "      <td>7</td>\n",
       "      <td>1</td>\n",
       "      <td>9</td>\n",
       "      <td>20.0</td>\n",
       "      <td>196</td>\n",
       "      <td>1</td>\n",
       "      <td>1</td>\n",
       "      <td>Soda</td>\n",
       "      <td>...</td>\n",
       "      <td>2/17/2019</td>\n",
       "      <td>3</td>\n",
       "      <td>married</td>\n",
       "      <td>40423</td>\n",
       "      <td>South</td>\n",
       "      <td>High activity</td>\n",
       "      <td>Young Adult</td>\n",
       "      <td>Low</td>\n",
       "      <td>with dependants</td>\n",
       "      <td>Family no dependants-Low</td>\n",
       "    </tr>\n",
       "  </tbody>\n",
       "</table>\n",
       "<p>5 rows × 37 columns</p>\n",
       "</div>"
      ],
      "text/plain": [
       "  order_id user_id  order_number  orders_day_of_week  order_hour_of_day  \\\n",
       "1  2398795       1             2                   3                  7   \n",
       "3  2254736       1             4                   4                  7   \n",
       "4   431534       1             5                   4                 15   \n",
       "5  3367565       1             6                   2                  7   \n",
       "6   550135       1             7                   1                  9   \n",
       "\n",
       "   days_since_prior_order  product_id  add_to_cart_order  reordered  \\\n",
       "1                    15.0         196                  1          1   \n",
       "3                    29.0         196                  1          1   \n",
       "4                    28.0         196                  1          1   \n",
       "5                    19.0         196                  1          1   \n",
       "6                    20.0         196                  1          1   \n",
       "\n",
       "  product_name  ...  date_joined  number_dependants  family_status income  \\\n",
       "1         Soda  ...    2/17/2019                  3        married  40423   \n",
       "3         Soda  ...    2/17/2019                  3        married  40423   \n",
       "4         Soda  ...    2/17/2019                  3        married  40423   \n",
       "5         Soda  ...    2/17/2019                  3        married  40423   \n",
       "6         Soda  ...    2/17/2019                  3        married  40423   \n",
       "\n",
       "  region exclusion_flag age_category income_flag  dependants_flag  \\\n",
       "1  South  High activity  Young Adult         Low  with dependants   \n",
       "3  South  High activity  Young Adult         Low  with dependants   \n",
       "4  South  High activity  Young Adult         Low  with dependants   \n",
       "5  South  High activity  Young Adult         Low  with dependants   \n",
       "6  South  High activity  Young Adult         Low  with dependants   \n",
       "\n",
       "                  household  \n",
       "1  Family no dependants-Low  \n",
       "3  Family no dependants-Low  \n",
       "4  Family no dependants-Low  \n",
       "5  Family no dependants-Low  \n",
       "6  Family no dependants-Low  \n",
       "\n",
       "[5 rows x 37 columns]"
      ]
     },
     "execution_count": 47,
     "metadata": {},
     "output_type": "execute_result"
    }
   ],
   "source": [
    "df_hcv.head()"
   ]
  },
  {
   "cell_type": "markdown",
   "id": "5b7c0598",
   "metadata": {},
   "source": [
    "### Create crosstab with 'household' and 'age_category' columns¶"
   ]
  },
  {
   "cell_type": "code",
   "execution_count": 48,
   "id": "5ef8baa1",
   "metadata": {},
   "outputs": [],
   "source": [
    "crosstab_household_age = pd.crosstab(df_hcv['household'],df_hcv['age_category'],dropna = False)"
   ]
  },
  {
   "cell_type": "code",
   "execution_count": 49,
   "id": "e16d7441",
   "metadata": {},
   "outputs": [
    {
     "data": {
      "text/html": [
       "<div>\n",
       "<style scoped>\n",
       "    .dataframe tbody tr th:only-of-type {\n",
       "        vertical-align: middle;\n",
       "    }\n",
       "\n",
       "    .dataframe tbody tr th {\n",
       "        vertical-align: top;\n",
       "    }\n",
       "\n",
       "    .dataframe thead th {\n",
       "        text-align: right;\n",
       "    }\n",
       "</style>\n",
       "<table border=\"1\" class=\"dataframe\">\n",
       "  <thead>\n",
       "    <tr style=\"text-align: right;\">\n",
       "      <th>age_category</th>\n",
       "      <th>Middle Age</th>\n",
       "      <th>Senior</th>\n",
       "      <th>Young Adult</th>\n",
       "    </tr>\n",
       "    <tr>\n",
       "      <th>household</th>\n",
       "      <th></th>\n",
       "      <th></th>\n",
       "      <th></th>\n",
       "    </tr>\n",
       "  </thead>\n",
       "  <tbody>\n",
       "    <tr>\n",
       "      <th>Family no dependants-High</th>\n",
       "      <td>2773953</td>\n",
       "      <td>1958115</td>\n",
       "      <td>57844</td>\n",
       "    </tr>\n",
       "    <tr>\n",
       "      <th>Family no dependants-Low</th>\n",
       "      <td>983545</td>\n",
       "      <td>601500</td>\n",
       "      <td>2370026</td>\n",
       "    </tr>\n",
       "    <tr>\n",
       "      <th>Family no dependants-Middle</th>\n",
       "      <td>2574901</td>\n",
       "      <td>1763189</td>\n",
       "      <td>2140151</td>\n",
       "    </tr>\n",
       "    <tr>\n",
       "      <th>Family with dependants-High</th>\n",
       "      <td>0</td>\n",
       "      <td>0</td>\n",
       "      <td>12839</td>\n",
       "    </tr>\n",
       "    <tr>\n",
       "      <th>Family with dependants-Low</th>\n",
       "      <td>0</td>\n",
       "      <td>0</td>\n",
       "      <td>519186</td>\n",
       "    </tr>\n",
       "    <tr>\n",
       "      <th>Family with dependants-Middle</th>\n",
       "      <td>0</td>\n",
       "      <td>0</td>\n",
       "      <td>505343</td>\n",
       "    </tr>\n",
       "    <tr>\n",
       "      <th>One person no dependants-High</th>\n",
       "      <td>754478</td>\n",
       "      <td>0</td>\n",
       "      <td>20513</td>\n",
       "    </tr>\n",
       "    <tr>\n",
       "      <th>One person no dependants-Low</th>\n",
       "      <td>702463</td>\n",
       "      <td>1415780</td>\n",
       "      <td>979539</td>\n",
       "    </tr>\n",
       "    <tr>\n",
       "      <th>One person no dependants-Middle</th>\n",
       "      <td>682085</td>\n",
       "      <td>0</td>\n",
       "      <td>863184</td>\n",
       "    </tr>\n",
       "  </tbody>\n",
       "</table>\n",
       "</div>"
      ],
      "text/plain": [
       "age_category                     Middle Age   Senior  Young Adult\n",
       "household                                                        \n",
       "Family no dependants-High           2773953  1958115        57844\n",
       "Family no dependants-Low             983545   601500      2370026\n",
       "Family no dependants-Middle         2574901  1763189      2140151\n",
       "Family with dependants-High               0        0        12839\n",
       "Family with dependants-Low                0        0       519186\n",
       "Family with dependants-Middle             0        0       505343\n",
       "One person no dependants-High        754478        0        20513\n",
       "One person no dependants-Low         702463  1415780       979539\n",
       "One person no dependants-Middle      682085        0       863184"
      ]
     },
     "execution_count": 49,
     "metadata": {},
     "output_type": "execute_result"
    }
   ],
   "source": [
    "crosstab_household_age "
   ]
  },
  {
   "cell_type": "code",
   "execution_count": 51,
   "id": "76b5be6d",
   "metadata": {},
   "outputs": [
    {
     "data": {
      "text/plain": [
       "Text(0.5, 0, 'Customer (in millions)')"
      ]
     },
     "execution_count": 51,
     "metadata": {},
     "output_type": "execute_result"
    },
    {
     "data": {
      "image/png": "[encoded data removed]",
      "text/plain": [
       "<Figure size 1000x500 with 1 Axes>"
      ]
     },
     "metadata": {},
     "output_type": "display_data"
    }
   ],
   "source": [
    "# Create a bar chart\n",
    "\n",
    "bar_household_age = crosstab_household_age.plot.barh(rot = 0, color = ['orange', 'navajowhite', 'peru'], figsize = (10,5))\n",
    "\n",
    "bar_household_age.legend(title = 'age_category', bbox_to_anchor = (1, 1), loc = 'upper left', labels = ['Middle Age', 'Senior', 'Young Adult'])\n",
    "\n",
    "plt.title('Instacart customers by household profile and age', fontsize = 18, pad = 20)\n",
    "plt.ylabel('')\n",
    "plt.xlabel('Customer (in millions)', fontsize = 12)"
   ]
  },
  {
   "cell_type": "markdown",
   "id": "36d67759",
   "metadata": {},
   "source": [
    "#### Observation: Middle age group from family without dependants - High and Middle income household are strongly present customers, following by Young adult age group from family without dependants - Middle and Low income household."
   ]
  },
  {
   "cell_type": "code",
   "execution_count": 52,
   "id": "809b5ed4",
   "metadata": {},
   "outputs": [],
   "source": [
    "# Export \n",
    "\n",
    "bar_household_age.figure.savefig(os.path.join(path, '04 Analysis','Visualizations', 'bar_household_age2.png'), bbox_inches = 'tight') "
   ]
  },
  {
   "cell_type": "markdown",
   "id": "79e4a160",
   "metadata": {},
   "source": [
    "# Instacart Products"
   ]
  },
  {
   "cell_type": "code",
   "execution_count": 53,
   "id": "fd3dc283",
   "metadata": {},
   "outputs": [],
   "source": [
    "# Create department dictionary\n",
    "\n",
    "dept_map = dict(zip(df_depts['department_id'], df_depts['department']))"
   ]
  },
  {
   "cell_type": "code",
   "execution_count": 54,
   "id": "238236f4",
   "metadata": {},
   "outputs": [
    {
     "data": {
      "text/plain": [
       "{1: 'frozen',\n",
       " 2: 'other',\n",
       " 3: 'bakery',\n",
       " 4: 'produce',\n",
       " 5: 'alcohol',\n",
       " 6: 'international',\n",
       " 7: 'beverages',\n",
       " 8: 'pets',\n",
       " 9: 'dry goods pasta',\n",
       " 10: 'bulk',\n",
       " 11: 'personal care',\n",
       " 12: 'meat seafood',\n",
       " 13: 'pantry',\n",
       " 14: 'breakfast',\n",
       " 15: 'canned goods',\n",
       " 16: 'dairy eggs',\n",
       " 17: 'household',\n",
       " 18: 'babies',\n",
       " 19: 'snacks',\n",
       " 20: 'deli',\n",
       " 21: 'missing'}"
      ]
     },
     "execution_count": 54,
     "metadata": {},
     "output_type": "execute_result"
    }
   ],
   "source": [
    "dept_map"
   ]
  },
  {
   "cell_type": "code",
   "execution_count": 55,
   "id": "6662b0ff",
   "metadata": {},
   "outputs": [],
   "source": [
    "df_hcv['department'] = df_hcv['department_id'].map(dept_map)"
   ]
  },
  {
   "cell_type": "code",
   "execution_count": 56,
   "id": "223a51f8",
   "metadata": {},
   "outputs": [
    {
     "data": {
      "text/plain": [
       "produce            6356254\n",
       "dairy eggs         3625897\n",
       "snacks             1937577\n",
       "beverages          1800090\n",
       "frozen             1486420\n",
       "pantry             1247429\n",
       "bakery              784789\n",
       "canned goods        708767\n",
       "deli                702359\n",
       "dry goods pasta     574998\n",
       "household           489476\n",
       "meat seafood        472058\n",
       "breakfast           469608\n",
       "personal care       297385\n",
       "babies              287019\n",
       "international       179413\n",
       "alcohol             101166\n",
       "pets                 65167\n",
       "missing              45388\n",
       "other                23971\n",
       "bulk                 23403\n",
       "Name: department, dtype: int64"
      ]
     },
     "execution_count": 56,
     "metadata": {},
     "output_type": "execute_result"
    }
   ],
   "source": [
    "# Check values\n",
    "\n",
    "df_hcv['department'].value_counts()"
   ]
  },
  {
   "cell_type": "code",
   "execution_count": 57,
   "id": "2ee2d8c6",
   "metadata": {},
   "outputs": [
    {
     "data": {
      "text/html": [
       "<div>\n",
       "<style scoped>\n",
       "    .dataframe tbody tr th:only-of-type {\n",
       "        vertical-align: middle;\n",
       "    }\n",
       "\n",
       "    .dataframe tbody tr th {\n",
       "        vertical-align: top;\n",
       "    }\n",
       "\n",
       "    .dataframe thead th {\n",
       "        text-align: right;\n",
       "    }\n",
       "</style>\n",
       "<table border=\"1\" class=\"dataframe\">\n",
       "  <thead>\n",
       "    <tr style=\"text-align: right;\">\n",
       "      <th></th>\n",
       "      <th>order_id</th>\n",
       "      <th>user_id</th>\n",
       "      <th>order_number</th>\n",
       "      <th>orders_day_of_week</th>\n",
       "      <th>order_hour_of_day</th>\n",
       "      <th>days_since_prior_order</th>\n",
       "      <th>product_id</th>\n",
       "      <th>add_to_cart_order</th>\n",
       "      <th>reordered</th>\n",
       "      <th>product_name</th>\n",
       "      <th>...</th>\n",
       "      <th>number_dependants</th>\n",
       "      <th>family_status</th>\n",
       "      <th>income</th>\n",
       "      <th>region</th>\n",
       "      <th>exclusion_flag</th>\n",
       "      <th>age_category</th>\n",
       "      <th>income_flag</th>\n",
       "      <th>dependants_flag</th>\n",
       "      <th>household</th>\n",
       "      <th>department</th>\n",
       "    </tr>\n",
       "  </thead>\n",
       "  <tbody>\n",
       "    <tr>\n",
       "      <th>1</th>\n",
       "      <td>2398795</td>\n",
       "      <td>1</td>\n",
       "      <td>2</td>\n",
       "      <td>3</td>\n",
       "      <td>7</td>\n",
       "      <td>15.0</td>\n",
       "      <td>196</td>\n",
       "      <td>1</td>\n",
       "      <td>1</td>\n",
       "      <td>Soda</td>\n",
       "      <td>...</td>\n",
       "      <td>3</td>\n",
       "      <td>married</td>\n",
       "      <td>40423</td>\n",
       "      <td>South</td>\n",
       "      <td>High activity</td>\n",
       "      <td>Young Adult</td>\n",
       "      <td>Low</td>\n",
       "      <td>with dependants</td>\n",
       "      <td>Family no dependants-Low</td>\n",
       "      <td>beverages</td>\n",
       "    </tr>\n",
       "    <tr>\n",
       "      <th>3</th>\n",
       "      <td>2254736</td>\n",
       "      <td>1</td>\n",
       "      <td>4</td>\n",
       "      <td>4</td>\n",
       "      <td>7</td>\n",
       "      <td>29.0</td>\n",
       "      <td>196</td>\n",
       "      <td>1</td>\n",
       "      <td>1</td>\n",
       "      <td>Soda</td>\n",
       "      <td>...</td>\n",
       "      <td>3</td>\n",
       "      <td>married</td>\n",
       "      <td>40423</td>\n",
       "      <td>South</td>\n",
       "      <td>High activity</td>\n",
       "      <td>Young Adult</td>\n",
       "      <td>Low</td>\n",
       "      <td>with dependants</td>\n",
       "      <td>Family no dependants-Low</td>\n",
       "      <td>beverages</td>\n",
       "    </tr>\n",
       "    <tr>\n",
       "      <th>4</th>\n",
       "      <td>431534</td>\n",
       "      <td>1</td>\n",
       "      <td>5</td>\n",
       "      <td>4</td>\n",
       "      <td>15</td>\n",
       "      <td>28.0</td>\n",
       "      <td>196</td>\n",
       "      <td>1</td>\n",
       "      <td>1</td>\n",
       "      <td>Soda</td>\n",
       "      <td>...</td>\n",
       "      <td>3</td>\n",
       "      <td>married</td>\n",
       "      <td>40423</td>\n",
       "      <td>South</td>\n",
       "      <td>High activity</td>\n",
       "      <td>Young Adult</td>\n",
       "      <td>Low</td>\n",
       "      <td>with dependants</td>\n",
       "      <td>Family no dependants-Low</td>\n",
       "      <td>beverages</td>\n",
       "    </tr>\n",
       "    <tr>\n",
       "      <th>5</th>\n",
       "      <td>3367565</td>\n",
       "      <td>1</td>\n",
       "      <td>6</td>\n",
       "      <td>2</td>\n",
       "      <td>7</td>\n",
       "      <td>19.0</td>\n",
       "      <td>196</td>\n",
       "      <td>1</td>\n",
       "      <td>1</td>\n",
       "      <td>Soda</td>\n",
       "      <td>...</td>\n",
       "      <td>3</td>\n",
       "      <td>married</td>\n",
       "      <td>40423</td>\n",
       "      <td>South</td>\n",
       "      <td>High activity</td>\n",
       "      <td>Young Adult</td>\n",
       "      <td>Low</td>\n",
       "      <td>with dependants</td>\n",
       "      <td>Family no dependants-Low</td>\n",
       "      <td>beverages</td>\n",
       "    </tr>\n",
       "    <tr>\n",
       "      <th>6</th>\n",
       "      <td>550135</td>\n",
       "      <td>1</td>\n",
       "      <td>7</td>\n",
       "      <td>1</td>\n",
       "      <td>9</td>\n",
       "      <td>20.0</td>\n",
       "      <td>196</td>\n",
       "      <td>1</td>\n",
       "      <td>1</td>\n",
       "      <td>Soda</td>\n",
       "      <td>...</td>\n",
       "      <td>3</td>\n",
       "      <td>married</td>\n",
       "      <td>40423</td>\n",
       "      <td>South</td>\n",
       "      <td>High activity</td>\n",
       "      <td>Young Adult</td>\n",
       "      <td>Low</td>\n",
       "      <td>with dependants</td>\n",
       "      <td>Family no dependants-Low</td>\n",
       "      <td>beverages</td>\n",
       "    </tr>\n",
       "  </tbody>\n",
       "</table>\n",
       "<p>5 rows × 38 columns</p>\n",
       "</div>"
      ],
      "text/plain": [
       "  order_id user_id  order_number  orders_day_of_week  order_hour_of_day  \\\n",
       "1  2398795       1             2                   3                  7   \n",
       "3  2254736       1             4                   4                  7   \n",
       "4   431534       1             5                   4                 15   \n",
       "5  3367565       1             6                   2                  7   \n",
       "6   550135       1             7                   1                  9   \n",
       "\n",
       "   days_since_prior_order  product_id  add_to_cart_order  reordered  \\\n",
       "1                    15.0         196                  1          1   \n",
       "3                    29.0         196                  1          1   \n",
       "4                    28.0         196                  1          1   \n",
       "5                    19.0         196                  1          1   \n",
       "6                    20.0         196                  1          1   \n",
       "\n",
       "  product_name  ...  number_dependants  family_status  income region  \\\n",
       "1         Soda  ...                  3        married   40423  South   \n",
       "3         Soda  ...                  3        married   40423  South   \n",
       "4         Soda  ...                  3        married   40423  South   \n",
       "5         Soda  ...                  3        married   40423  South   \n",
       "6         Soda  ...                  3        married   40423  South   \n",
       "\n",
       "  exclusion_flag age_category income_flag  dependants_flag  \\\n",
       "1  High activity  Young Adult         Low  with dependants   \n",
       "3  High activity  Young Adult         Low  with dependants   \n",
       "4  High activity  Young Adult         Low  with dependants   \n",
       "5  High activity  Young Adult         Low  with dependants   \n",
       "6  High activity  Young Adult         Low  with dependants   \n",
       "\n",
       "                  household department  \n",
       "1  Family no dependants-Low  beverages  \n",
       "3  Family no dependants-Low  beverages  \n",
       "4  Family no dependants-Low  beverages  \n",
       "5  Family no dependants-Low  beverages  \n",
       "6  Family no dependants-Low  beverages  \n",
       "\n",
       "[5 rows x 38 columns]"
      ]
     },
     "execution_count": 57,
     "metadata": {},
     "output_type": "execute_result"
    }
   ],
   "source": [
    "df_hcv.head()"
   ]
  },
  {
   "cell_type": "markdown",
   "id": "040484af",
   "metadata": {},
   "source": [
    "### Alcohol Consumer vs. Non-Alcohol Consumer"
   ]
  },
  {
   "cell_type": "code",
   "execution_count": 58,
   "id": "bf46f792",
   "metadata": {},
   "outputs": [],
   "source": [
    "# Create a new 'alcohol_consumer' column\n",
    "\n",
    "df_hcv.loc[df_hcv['department'] !='alcohol', 'alcohol_consumer'] = 'No'"
   ]
  },
  {
   "cell_type": "code",
   "execution_count": 59,
   "id": "0d4ae4dc",
   "metadata": {},
   "outputs": [],
   "source": [
    "df_hcv.loc[df_hcv['department'] =='alcohol', 'alcohol_consumer'] = 'Yes'"
   ]
  },
  {
   "cell_type": "code",
   "execution_count": 60,
   "id": "75a41d40",
   "metadata": {},
   "outputs": [
    {
     "data": {
      "text/plain": [
       "No     21577468\n",
       "Yes      101166\n",
       "Name: alcohol_consumer, dtype: int64"
      ]
     },
     "execution_count": 60,
     "metadata": {},
     "output_type": "execute_result"
    }
   ],
   "source": [
    "# Check values\n",
    "\n",
    "df_hcv['alcohol_consumer'].value_counts(dropna = False)"
   ]
  },
  {
   "cell_type": "code",
   "execution_count": 61,
   "id": "b4ca5a4f",
   "metadata": {},
   "outputs": [
    {
     "data": {
      "text/plain": [
       "Text(0.5, 1.0, 'Pourcentage of Instacart customer of alcohol consumer')"
      ]
     },
     "execution_count": 61,
     "metadata": {},
     "output_type": "execute_result"
    },
    {
     "data": {
      "image/png": "[encoded data removed]",
      "text/plain": [
       "<Figure size 640x480 with 1 Axes>"
      ]
     },
     "metadata": {},
     "output_type": "display_data"
    }
   ],
   "source": [
    "# Create a pie chart \n",
    "\n",
    "pie_alcohol_consumer = df_hcv['alcohol_consumer'].value_counts().plot.pie(labels = ['Alcohol consumer','Non-Alcohol consumer'], autopct=('%.2f%%'), colors = ['grey', 'lightgrey'], label = '', explode = [0,0.1])\n",
    "\n",
    "plt.title('Pourcentage of Instacart customer of alcohol consumer', fontsize = '18')"
   ]
  },
  {
   "cell_type": "markdown",
   "id": "b71f11f2",
   "metadata": {},
   "source": [
    "#### Observation: the pourcentage of customer whom consumes alcohol is higher than the non-consumer one."
   ]
  },
  {
   "cell_type": "code",
   "execution_count": 62,
   "id": "d7028821",
   "metadata": {},
   "outputs": [],
   "source": [
    "# Export \n",
    "\n",
    "pie_alcohol_consumer.figure.savefig(os.path.join(path, '04 Analysis','Visualizations', 'pie_alcohol_consumer.png'),bbox_inches = 'tight')"
   ]
  },
  {
   "cell_type": "markdown",
   "id": "0f2f8100",
   "metadata": {},
   "source": [
    "### Sweet Tooth vs. Non-Sweet Tooth"
   ]
  },
  {
   "cell_type": "code",
   "execution_count": 63,
   "id": "e467017c",
   "metadata": {},
   "outputs": [],
   "source": [
    "# Create a new 'bakery_consumer' column\n",
    "\n",
    "df_hcv.loc[df_hcv['department'] !='bakery', 'bakery_consumer'] = 'No'"
   ]
  },
  {
   "cell_type": "code",
   "execution_count": 64,
   "id": "ce482575",
   "metadata": {},
   "outputs": [],
   "source": [
    "df_hcv.loc[df_hcv['department'] =='bakery', 'bakery_consumer'] = 'Yes'"
   ]
  },
  {
   "cell_type": "code",
   "execution_count": 65,
   "id": "757333c7",
   "metadata": {},
   "outputs": [
    {
     "data": {
      "text/plain": [
       "No     20893845\n",
       "Yes      784789\n",
       "Name: bakery_consumer, dtype: int64"
      ]
     },
     "execution_count": 65,
     "metadata": {},
     "output_type": "execute_result"
    }
   ],
   "source": [
    "# Check values\n",
    "\n",
    "df_hcv['bakery_consumer'].value_counts(dropna = False)"
   ]
  },
  {
   "cell_type": "code",
   "execution_count": 66,
   "id": "5bc639fd",
   "metadata": {},
   "outputs": [
    {
     "data": {
      "text/plain": [
       "Text(0.5, 1.0, 'Pourcentage of Instacart customer of bakery consumer')"
      ]
     },
     "execution_count": 66,
     "metadata": {},
     "output_type": "execute_result"
    },
    {
     "data": {
      "image/png": "[encoded data removed]",
      "text/plain": [
       "<Figure size 640x480 with 1 Axes>"
      ]
     },
     "metadata": {},
     "output_type": "display_data"
    }
   ],
   "source": [
    "# Create a pie chart \n",
    "\n",
    "pie_bakery_consumer = df_hcv['bakery_consumer'].value_counts().plot.pie(labels = ['Sweet Tooth','Non-Sweet Tooth'], autopct=('%.2f%%'), colors = ['grey', 'lightgrey'], label = '', explode = [0,0.1])\n",
    "\n",
    "plt.title('Pourcentage of Instacart customer of bakery consumer', fontsize = '18')"
   ]
  },
  {
   "cell_type": "markdown",
   "id": "bf81cfec",
   "metadata": {},
   "source": [
    "#### Observation: Instacart customers like sweet treets! "
   ]
  },
  {
   "cell_type": "code",
   "execution_count": 67,
   "id": "e159e721",
   "metadata": {},
   "outputs": [],
   "source": [
    "# Export \n",
    "\n",
    "pie_bakery_consumer.figure.savefig(os.path.join(path, '04 Analysis','Visualizations', 'pie_bakery_consumer.png'),bbox_inches = 'tight')"
   ]
  },
  {
   "cell_type": "markdown",
   "id": "01db24dd",
   "metadata": {},
   "source": [
    "### Frequency of order per hour"
   ]
  },
  {
   "cell_type": "code",
   "execution_count": 68,
   "id": "017f2a94",
   "metadata": {},
   "outputs": [
    {
     "data": {
      "text/plain": [
       "Text(0.5, 0, 'order_hour_of_day')"
      ]
     },
     "execution_count": 68,
     "metadata": {},
     "output_type": "execute_result"
    },
    {
     "data": {
      "image/png": "[encoded data removed]",
      "text/plain": [
       "<Figure size 640x480 with 1 Axes>"
      ]
     },
     "metadata": {},
     "output_type": "display_data"
    }
   ],
   "source": [
    "# Create an histogram of the 'order_hour_of_day' column\n",
    "\n",
    "hist2_order_hour_of_day = df_hcv['order_hour_of_day'].plot.hist(bins = 100)\n",
    "\n",
    "plt.title('Frequency of order per hour', fontsize = 18, pad = 20)\n",
    "plt.ylabel('Order placed (in millions)', fontsize = 12)\n",
    "plt.xlabel('order_hour_of_day', fontsize = 12)"
   ]
  },
  {
   "cell_type": "markdown",
   "id": "6ab7ebf4",
   "metadata": {},
   "source": [
    "#### Observation: Orders start to increase after 5:00am reaching the highest frequency at 10:00am, it remains high from 10:00am to 3:00pm, then we can start to see a slight decrease in order from there.¶"
   ]
  },
  {
   "cell_type": "code",
   "execution_count": 69,
   "id": "d4ee499e",
   "metadata": {},
   "outputs": [],
   "source": [
    "# Export hist_order_hour_of_day\n",
    "\n",
    "hist2_order_hour_of_day.figure.savefig(os.path.join(path,'04 Analysis','Visualizations', 'hist2_order_hour_of_day.png'))"
   ]
  },
  {
   "cell_type": "markdown",
   "id": "125ccbf1",
   "metadata": {},
   "source": [
    "### Early Birds vs. Night Owls"
   ]
  },
  {
   "cell_type": "code",
   "execution_count": 70,
   "id": "a41c6600",
   "metadata": {},
   "outputs": [
    {
     "data": {
      "text/plain": [
       "0      145486\n",
       "1       76948\n",
       "2       46414\n",
       "3       34189\n",
       "4       35638\n",
       "5       59167\n",
       "6      196698\n",
       "7      604711\n",
       "8     1161010\n",
       "9     1655754\n",
       "10    1854761\n",
       "11    1830478\n",
       "12    1748000\n",
       "13    1778013\n",
       "14    1796613\n",
       "15    1775282\n",
       "16    1690388\n",
       "17    1386699\n",
       "18    1086028\n",
       "19     835464\n",
       "20     652130\n",
       "21     534106\n",
       "22     425015\n",
       "23     269642\n",
       "Name: order_hour_of_day, dtype: int64"
      ]
     },
     "execution_count": 70,
     "metadata": {},
     "output_type": "execute_result"
    }
   ],
   "source": [
    "# Check the frequency values of 'order_hour_of_day' column\n",
    "\n",
    "df_hcv['order_hour_of_day'].value_counts(dropna = False).sort_index()"
   ]
  },
  {
   "cell_type": "code",
   "execution_count": 71,
   "id": "ad4a4003",
   "metadata": {},
   "outputs": [],
   "source": [
    "# Create a list for a new 'order_time_day' column\n",
    "\n",
    "result = []\n",
    "\n",
    "for hour in df_hcv['order_hour_of_day']:\n",
    "    if hour in [0, 1, 2, 3, 4, 21, 22, 23]:\n",
    "        result.append('Night owl')\n",
    "    elif hour in [5, 6, 7, 8]:\n",
    "        result.append('Early bird')\n",
    "    else:\n",
    "        result.append('Regular')"
   ]
  },
  {
   "cell_type": "code",
   "execution_count": 72,
   "id": "c8ed5bb5",
   "metadata": {},
   "outputs": [],
   "source": [
    "# Insert the result to the new column \n",
    "\n",
    "df_hcv['order_time_period'] = result"
   ]
  },
  {
   "cell_type": "code",
   "execution_count": 73,
   "id": "e65d916e",
   "metadata": {},
   "outputs": [
    {
     "data": {
      "text/plain": [
       "Regular       18089610\n",
       "Early bird     2021586\n",
       "Night owl      1567438\n",
       "Name: order_time_period, dtype: int64"
      ]
     },
     "execution_count": 73,
     "metadata": {},
     "output_type": "execute_result"
    }
   ],
   "source": [
    "# Check values\n",
    "\n",
    "df_hcv['order_time_period'].value_counts(dropna = False)"
   ]
  },
  {
   "cell_type": "code",
   "execution_count": 74,
   "id": "e23313e6",
   "metadata": {},
   "outputs": [
    {
     "name": "stdout",
     "output_type": "stream",
     "text": [
      "<class 'pandas.core.frame.DataFrame'>\n",
      "Int64Index: 21678634 entries, 1 to 32404854\n",
      "Data columns (total 41 columns):\n",
      " #   Column                         Dtype   \n",
      "---  ------                         -----   \n",
      " 0   order_id                       object  \n",
      " 1   user_id                        object  \n",
      " 2   order_number                   int8    \n",
      " 3   orders_day_of_week             int8    \n",
      " 4   order_hour_of_day              int8    \n",
      " 5   days_since_prior_order         float64 \n",
      " 6   product_id                     int32   \n",
      " 7   add_to_cart_order              int32   \n",
      " 8   reordered                      int8    \n",
      " 9   product_name                   object  \n",
      " 10  aisle_id                       int8    \n",
      " 11  department_id                  int8    \n",
      " 12  prices                         float64 \n",
      " 13  _merge                         category\n",
      " 14  price_range_loc                object  \n",
      " 15  busiest_day                    object  \n",
      " 16  busiest_days                   object  \n",
      " 17  busiest_period_of_day          object  \n",
      " 18  max_order                      int8    \n",
      " 19  loyalty_flag                   object  \n",
      " 20  average_price                  float64 \n",
      " 21  spending_flag                  object  \n",
      " 22  median_days_since_prior_order  float64 \n",
      " 23  order_frequency_flag           object  \n",
      " 24  gender                         object  \n",
      " 25  state                          object  \n",
      " 26  age                            int8    \n",
      " 27  date_joined                    object  \n",
      " 28  number_dependants              int16   \n",
      " 29  family_status                  object  \n",
      " 30  income                         int32   \n",
      " 31  region                         object  \n",
      " 32  exclusion_flag                 object  \n",
      " 33  age_category                   object  \n",
      " 34  income_flag                    object  \n",
      " 35  dependants_flag                object  \n",
      " 36  household                      object  \n",
      " 37  department                     object  \n",
      " 38  alcohol_consumer               object  \n",
      " 39  bakery_consumer                object  \n",
      " 40  order_time_period              object  \n",
      "dtypes: category(1), float64(4), int16(1), int32(3), int8(8), object(24)\n",
      "memory usage: 5.1+ GB\n"
     ]
    }
   ],
   "source": [
    "df_hcv.info()"
   ]
  },
  {
   "cell_type": "markdown",
   "id": "82a9bc4d",
   "metadata": {},
   "source": [
    "### Create a crosstab with 'age_group' and 'order_time_period'"
   ]
  },
  {
   "cell_type": "code",
   "execution_count": 75,
   "id": "ea727740",
   "metadata": {},
   "outputs": [],
   "source": [
    "crosstab_age_time = pd.crosstab(df_hcv['age_category'], df_hcv['order_time_period'], dropna = False)"
   ]
  },
  {
   "cell_type": "code",
   "execution_count": 76,
   "id": "248a4e15",
   "metadata": {},
   "outputs": [
    {
     "data": {
      "text/html": [
       "<div>\n",
       "<style scoped>\n",
       "    .dataframe tbody tr th:only-of-type {\n",
       "        vertical-align: middle;\n",
       "    }\n",
       "\n",
       "    .dataframe tbody tr th {\n",
       "        vertical-align: top;\n",
       "    }\n",
       "\n",
       "    .dataframe thead th {\n",
       "        text-align: right;\n",
       "    }\n",
       "</style>\n",
       "<table border=\"1\" class=\"dataframe\">\n",
       "  <thead>\n",
       "    <tr style=\"text-align: right;\">\n",
       "      <th>order_time_period</th>\n",
       "      <th>Early bird</th>\n",
       "      <th>Night owl</th>\n",
       "      <th>Regular</th>\n",
       "    </tr>\n",
       "    <tr>\n",
       "      <th>age_category</th>\n",
       "      <th></th>\n",
       "      <th></th>\n",
       "      <th></th>\n",
       "    </tr>\n",
       "  </thead>\n",
       "  <tbody>\n",
       "    <tr>\n",
       "      <th>Middle Age</th>\n",
       "      <td>787970</td>\n",
       "      <td>609553</td>\n",
       "      <td>7073902</td>\n",
       "    </tr>\n",
       "    <tr>\n",
       "      <th>Senior</th>\n",
       "      <td>540832</td>\n",
       "      <td>416033</td>\n",
       "      <td>4781719</td>\n",
       "    </tr>\n",
       "    <tr>\n",
       "      <th>Young Adult</th>\n",
       "      <td>692784</td>\n",
       "      <td>541852</td>\n",
       "      <td>6233989</td>\n",
       "    </tr>\n",
       "  </tbody>\n",
       "</table>\n",
       "</div>"
      ],
      "text/plain": [
       "order_time_period  Early bird  Night owl  Regular\n",
       "age_category                                     \n",
       "Middle Age             787970     609553  7073902\n",
       "Senior                 540832     416033  4781719\n",
       "Young Adult            692784     541852  6233989"
      ]
     },
     "execution_count": 76,
     "metadata": {},
     "output_type": "execute_result"
    }
   ],
   "source": [
    "crosstab_age_time"
   ]
  },
  {
   "cell_type": "code",
   "execution_count": 77,
   "id": "2ecca101",
   "metadata": {},
   "outputs": [
    {
     "data": {
      "text/plain": [
       "Text(0.5, 0, 'Age Category')"
      ]
     },
     "execution_count": 77,
     "metadata": {},
     "output_type": "execute_result"
    },
    {
     "data": {
      "image/png": "[encoded data removed]",
      "text/plain": [
       "<Figure size 640x480 with 1 Axes>"
      ]
     },
     "metadata": {},
     "output_type": "display_data"
    }
   ],
   "source": [
    "# Create a bar chart\n",
    "\n",
    "bar_age_time = crosstab_age_time.plot.bar(rot = 0, color = ['lightsteelblue', 'cornflowerblue', 'royalblue'])\n",
    "\n",
    "bar_age_time.legend(title = 'order_time_period', bbox_to_anchor = (1, 1), loc = 'upper left', labels = ['Early bird', 'Night owl', 'Regular'])\n",
    "\n",
    "plt.title('Frequency of order per time period by age category', fontsize = 18, pad = 20)\n",
    "plt.ylabel('Order placed (in millions)', fontsize = 12)\n",
    "plt.xlabel('Age Category', fontsize = 12)"
   ]
  },
  {
   "cell_type": "markdown",
   "id": "c09dab93",
   "metadata": {},
   "source": [
    "#### Observation: Regular hours, 9 to 20 are when all age category like to place orders."
   ]
  },
  {
   "cell_type": "code",
   "execution_count": 78,
   "id": "7ce4093b",
   "metadata": {},
   "outputs": [],
   "source": [
    "# Export \n",
    "\n",
    "bar_age_time.figure.savefig(os.path.join(path, '04 Analysis','Visualizations','bar_age_time.png'),bbox_inches = 'tight')"
   ]
  },
  {
   "cell_type": "code",
   "execution_count": 79,
   "id": "08378c2d",
   "metadata": {},
   "outputs": [],
   "source": [
    "# Export df_hcv\n",
    "\n",
    "df_hcv.to_pickle(os.path.join(path, '02 Data','Prepared Data', 'final.pkl'))                              "
   ]
  }
 ],
 "metadata": {
  "kernelspec": {
   "display_name": "Python 3 (ipykernel)",
   "language": "python",
   "name": "python3"
  },
  "language_info": {
   "codemirror_mode": {
    "name": "ipython",
    "version": 3
   },
   "file_extension": ".py",
   "mimetype": "text/x-python",
   "name": "python",
   "nbconvert_exporter": "python",
   "pygments_lexer": "ipython3",
   "version": "3.9.13"
  }
 },
 "nbformat": 4,
 "nbformat_minor": 5
}
